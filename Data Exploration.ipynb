{
 "cells": [
  {
   "cell_type": "markdown",
   "id": "b7f5f388",
   "metadata": {},
   "source": [
    "> Here we will explore the training data and attempt to find preliminary correlations between the anonymized features and whether of not the customer defaulted on their payments."
   ]
  },
  {
   "cell_type": "markdown",
   "id": "348dae47",
   "metadata": {},
   "source": [
    "# Inspect data"
   ]
  },
  {
   "cell_type": "code",
   "execution_count": 1,
   "id": "4cbda7ec",
   "metadata": {},
   "outputs": [],
   "source": [
    "import pandas as pd\n",
    "import matplotlib.pyplot as plt\n",
    "import seaborn as sns\n",
    "import numpy as np"
   ]
  },
  {
   "cell_type": "markdown",
   "id": "1a73ec2b",
   "metadata": {},
   "source": [
    "> The csv file is very large so will have to be dealt with in chunks"
   ]
  },
  {
   "cell_type": "markdown",
   "id": "9343939c",
   "metadata": {},
   "source": [
    "## chunk and inspect DataFrame"
   ]
  },
  {
   "cell_type": "code",
   "execution_count": 2,
   "id": "d7acedad",
   "metadata": {},
   "outputs": [],
   "source": [
    "chunksize = 10000\n",
    "\n",
    "train_df_iter = pd.read_csv('train_data.csv', chunksize=chunksize)"
   ]
  },
  {
   "cell_type": "code",
   "execution_count": 3,
   "id": "3500553e",
   "metadata": {},
   "outputs": [],
   "source": [
    "train_df_example = train_df_iter.__next__()"
   ]
  },
  {
   "cell_type": "code",
   "execution_count": 4,
   "id": "34bd33ad",
   "metadata": {},
   "outputs": [
    {
     "data": {
      "text/html": [
       "<div>\n",
       "<style scoped>\n",
       "    .dataframe tbody tr th:only-of-type {\n",
       "        vertical-align: middle;\n",
       "    }\n",
       "\n",
       "    .dataframe tbody tr th {\n",
       "        vertical-align: top;\n",
       "    }\n",
       "\n",
       "    .dataframe thead th {\n",
       "        text-align: right;\n",
       "    }\n",
       "</style>\n",
       "<table border=\"1\" class=\"dataframe\">\n",
       "  <thead>\n",
       "    <tr style=\"text-align: right;\">\n",
       "      <th></th>\n",
       "      <th>customer_ID</th>\n",
       "      <th>S_2</th>\n",
       "      <th>P_2</th>\n",
       "      <th>D_39</th>\n",
       "      <th>B_1</th>\n",
       "      <th>B_2</th>\n",
       "      <th>R_1</th>\n",
       "      <th>S_3</th>\n",
       "      <th>D_41</th>\n",
       "      <th>B_3</th>\n",
       "      <th>...</th>\n",
       "      <th>D_136</th>\n",
       "      <th>D_137</th>\n",
       "      <th>D_138</th>\n",
       "      <th>D_139</th>\n",
       "      <th>D_140</th>\n",
       "      <th>D_141</th>\n",
       "      <th>D_142</th>\n",
       "      <th>D_143</th>\n",
       "      <th>D_144</th>\n",
       "      <th>D_145</th>\n",
       "    </tr>\n",
       "  </thead>\n",
       "  <tbody>\n",
       "    <tr>\n",
       "      <th>0</th>\n",
       "      <td>0000099d6bd597052cdcda90ffabf56573fe9d7c79be5f...</td>\n",
       "      <td>2017-03-09</td>\n",
       "      <td>0.938469</td>\n",
       "      <td>0.001733</td>\n",
       "      <td>0.008724</td>\n",
       "      <td>1.006838</td>\n",
       "      <td>0.009228</td>\n",
       "      <td>0.124035</td>\n",
       "      <td>0.008771</td>\n",
       "      <td>0.004709</td>\n",
       "      <td>...</td>\n",
       "      <td>NaN</td>\n",
       "      <td>NaN</td>\n",
       "      <td>NaN</td>\n",
       "      <td>0.002427</td>\n",
       "      <td>0.003706</td>\n",
       "      <td>0.003818</td>\n",
       "      <td>NaN</td>\n",
       "      <td>0.000569</td>\n",
       "      <td>0.000610</td>\n",
       "      <td>0.002674</td>\n",
       "    </tr>\n",
       "    <tr>\n",
       "      <th>1</th>\n",
       "      <td>0000099d6bd597052cdcda90ffabf56573fe9d7c79be5f...</td>\n",
       "      <td>2017-04-07</td>\n",
       "      <td>0.936665</td>\n",
       "      <td>0.005775</td>\n",
       "      <td>0.004923</td>\n",
       "      <td>1.000653</td>\n",
       "      <td>0.006151</td>\n",
       "      <td>0.126750</td>\n",
       "      <td>0.000798</td>\n",
       "      <td>0.002714</td>\n",
       "      <td>...</td>\n",
       "      <td>NaN</td>\n",
       "      <td>NaN</td>\n",
       "      <td>NaN</td>\n",
       "      <td>0.003954</td>\n",
       "      <td>0.003167</td>\n",
       "      <td>0.005032</td>\n",
       "      <td>NaN</td>\n",
       "      <td>0.009576</td>\n",
       "      <td>0.005492</td>\n",
       "      <td>0.009217</td>\n",
       "    </tr>\n",
       "    <tr>\n",
       "      <th>2</th>\n",
       "      <td>0000099d6bd597052cdcda90ffabf56573fe9d7c79be5f...</td>\n",
       "      <td>2017-05-28</td>\n",
       "      <td>0.954180</td>\n",
       "      <td>0.091505</td>\n",
       "      <td>0.021655</td>\n",
       "      <td>1.009672</td>\n",
       "      <td>0.006815</td>\n",
       "      <td>0.123977</td>\n",
       "      <td>0.007598</td>\n",
       "      <td>0.009423</td>\n",
       "      <td>...</td>\n",
       "      <td>NaN</td>\n",
       "      <td>NaN</td>\n",
       "      <td>NaN</td>\n",
       "      <td>0.003269</td>\n",
       "      <td>0.007329</td>\n",
       "      <td>0.000427</td>\n",
       "      <td>NaN</td>\n",
       "      <td>0.003429</td>\n",
       "      <td>0.006986</td>\n",
       "      <td>0.002603</td>\n",
       "    </tr>\n",
       "    <tr>\n",
       "      <th>3</th>\n",
       "      <td>0000099d6bd597052cdcda90ffabf56573fe9d7c79be5f...</td>\n",
       "      <td>2017-06-13</td>\n",
       "      <td>0.960384</td>\n",
       "      <td>0.002455</td>\n",
       "      <td>0.013683</td>\n",
       "      <td>1.002700</td>\n",
       "      <td>0.001373</td>\n",
       "      <td>0.117169</td>\n",
       "      <td>0.000685</td>\n",
       "      <td>0.005531</td>\n",
       "      <td>...</td>\n",
       "      <td>NaN</td>\n",
       "      <td>NaN</td>\n",
       "      <td>NaN</td>\n",
       "      <td>0.006117</td>\n",
       "      <td>0.004516</td>\n",
       "      <td>0.003200</td>\n",
       "      <td>NaN</td>\n",
       "      <td>0.008419</td>\n",
       "      <td>0.006527</td>\n",
       "      <td>0.009600</td>\n",
       "    </tr>\n",
       "    <tr>\n",
       "      <th>4</th>\n",
       "      <td>0000099d6bd597052cdcda90ffabf56573fe9d7c79be5f...</td>\n",
       "      <td>2017-07-16</td>\n",
       "      <td>0.947248</td>\n",
       "      <td>0.002483</td>\n",
       "      <td>0.015193</td>\n",
       "      <td>1.000727</td>\n",
       "      <td>0.007605</td>\n",
       "      <td>0.117325</td>\n",
       "      <td>0.004653</td>\n",
       "      <td>0.009312</td>\n",
       "      <td>...</td>\n",
       "      <td>NaN</td>\n",
       "      <td>NaN</td>\n",
       "      <td>NaN</td>\n",
       "      <td>0.003671</td>\n",
       "      <td>0.004946</td>\n",
       "      <td>0.008889</td>\n",
       "      <td>NaN</td>\n",
       "      <td>0.001670</td>\n",
       "      <td>0.008126</td>\n",
       "      <td>0.009827</td>\n",
       "    </tr>\n",
       "  </tbody>\n",
       "</table>\n",
       "<p>5 rows × 190 columns</p>\n",
       "</div>"
      ],
      "text/plain": [
       "                                         customer_ID         S_2       P_2  \\\n",
       "0  0000099d6bd597052cdcda90ffabf56573fe9d7c79be5f...  2017-03-09  0.938469   \n",
       "1  0000099d6bd597052cdcda90ffabf56573fe9d7c79be5f...  2017-04-07  0.936665   \n",
       "2  0000099d6bd597052cdcda90ffabf56573fe9d7c79be5f...  2017-05-28  0.954180   \n",
       "3  0000099d6bd597052cdcda90ffabf56573fe9d7c79be5f...  2017-06-13  0.960384   \n",
       "4  0000099d6bd597052cdcda90ffabf56573fe9d7c79be5f...  2017-07-16  0.947248   \n",
       "\n",
       "       D_39       B_1       B_2       R_1       S_3      D_41       B_3  ...  \\\n",
       "0  0.001733  0.008724  1.006838  0.009228  0.124035  0.008771  0.004709  ...   \n",
       "1  0.005775  0.004923  1.000653  0.006151  0.126750  0.000798  0.002714  ...   \n",
       "2  0.091505  0.021655  1.009672  0.006815  0.123977  0.007598  0.009423  ...   \n",
       "3  0.002455  0.013683  1.002700  0.001373  0.117169  0.000685  0.005531  ...   \n",
       "4  0.002483  0.015193  1.000727  0.007605  0.117325  0.004653  0.009312  ...   \n",
       "\n",
       "   D_136  D_137  D_138     D_139     D_140     D_141  D_142     D_143  \\\n",
       "0    NaN    NaN    NaN  0.002427  0.003706  0.003818    NaN  0.000569   \n",
       "1    NaN    NaN    NaN  0.003954  0.003167  0.005032    NaN  0.009576   \n",
       "2    NaN    NaN    NaN  0.003269  0.007329  0.000427    NaN  0.003429   \n",
       "3    NaN    NaN    NaN  0.006117  0.004516  0.003200    NaN  0.008419   \n",
       "4    NaN    NaN    NaN  0.003671  0.004946  0.008889    NaN  0.001670   \n",
       "\n",
       "      D_144     D_145  \n",
       "0  0.000610  0.002674  \n",
       "1  0.005492  0.009217  \n",
       "2  0.006986  0.002603  \n",
       "3  0.006527  0.009600  \n",
       "4  0.008126  0.009827  \n",
       "\n",
       "[5 rows x 190 columns]"
      ]
     },
     "execution_count": 4,
     "metadata": {},
     "output_type": "execute_result"
    }
   ],
   "source": [
    "train_df_example.head()"
   ]
  },
  {
   "cell_type": "code",
   "execution_count": 5,
   "id": "531c8412",
   "metadata": {},
   "outputs": [
    {
     "data": {
      "text/html": [
       "<div>\n",
       "<style scoped>\n",
       "    .dataframe tbody tr th:only-of-type {\n",
       "        vertical-align: middle;\n",
       "    }\n",
       "\n",
       "    .dataframe tbody tr th {\n",
       "        vertical-align: top;\n",
       "    }\n",
       "\n",
       "    .dataframe thead th {\n",
       "        text-align: right;\n",
       "    }\n",
       "</style>\n",
       "<table border=\"1\" class=\"dataframe\">\n",
       "  <thead>\n",
       "    <tr style=\"text-align: right;\">\n",
       "      <th></th>\n",
       "      <th>customer_ID</th>\n",
       "      <th>S_2</th>\n",
       "      <th>P_2</th>\n",
       "      <th>D_39</th>\n",
       "      <th>B_1</th>\n",
       "      <th>B_2</th>\n",
       "      <th>R_1</th>\n",
       "      <th>S_3</th>\n",
       "      <th>D_41</th>\n",
       "      <th>B_3</th>\n",
       "      <th>...</th>\n",
       "      <th>D_136</th>\n",
       "      <th>D_137</th>\n",
       "      <th>D_138</th>\n",
       "      <th>D_139</th>\n",
       "      <th>D_140</th>\n",
       "      <th>D_141</th>\n",
       "      <th>D_142</th>\n",
       "      <th>D_143</th>\n",
       "      <th>D_144</th>\n",
       "      <th>D_145</th>\n",
       "    </tr>\n",
       "  </thead>\n",
       "  <tbody>\n",
       "    <tr>\n",
       "      <th>9995</th>\n",
       "      <td>007793144e0eeef1e29a7aa93244815328beb0d46ccbe3...</td>\n",
       "      <td>2018-02-26</td>\n",
       "      <td>0.331150</td>\n",
       "      <td>1.472028</td>\n",
       "      <td>0.049780</td>\n",
       "      <td>0.187973</td>\n",
       "      <td>0.000417</td>\n",
       "      <td>0.143625</td>\n",
       "      <td>0.955153</td>\n",
       "      <td>0.099672</td>\n",
       "      <td>...</td>\n",
       "      <td>NaN</td>\n",
       "      <td>NaN</td>\n",
       "      <td>NaN</td>\n",
       "      <td>0.008082</td>\n",
       "      <td>0.002661</td>\n",
       "      <td>0.003676</td>\n",
       "      <td>NaN</td>\n",
       "      <td>0.001279</td>\n",
       "      <td>0.001011</td>\n",
       "      <td>0.008815</td>\n",
       "    </tr>\n",
       "    <tr>\n",
       "      <th>9996</th>\n",
       "      <td>007793144e0eeef1e29a7aa93244815328beb0d46ccbe3...</td>\n",
       "      <td>2018-03-19</td>\n",
       "      <td>0.361060</td>\n",
       "      <td>2.065567</td>\n",
       "      <td>0.048313</td>\n",
       "      <td>0.194930</td>\n",
       "      <td>0.006775</td>\n",
       "      <td>0.144908</td>\n",
       "      <td>1.252287</td>\n",
       "      <td>0.118775</td>\n",
       "      <td>...</td>\n",
       "      <td>NaN</td>\n",
       "      <td>NaN</td>\n",
       "      <td>NaN</td>\n",
       "      <td>0.007419</td>\n",
       "      <td>0.007829</td>\n",
       "      <td>0.000511</td>\n",
       "      <td>NaN</td>\n",
       "      <td>0.008342</td>\n",
       "      <td>0.004060</td>\n",
       "      <td>0.005083</td>\n",
       "    </tr>\n",
       "    <tr>\n",
       "      <th>9997</th>\n",
       "      <td>0077b7efafef4cfa81e42538b87e39799e9928e47c6826...</td>\n",
       "      <td>2017-03-28</td>\n",
       "      <td>0.708199</td>\n",
       "      <td>0.357349</td>\n",
       "      <td>0.013953</td>\n",
       "      <td>1.002573</td>\n",
       "      <td>0.003448</td>\n",
       "      <td>0.110258</td>\n",
       "      <td>0.170252</td>\n",
       "      <td>0.040633</td>\n",
       "      <td>...</td>\n",
       "      <td>NaN</td>\n",
       "      <td>NaN</td>\n",
       "      <td>NaN</td>\n",
       "      <td>0.009987</td>\n",
       "      <td>0.007548</td>\n",
       "      <td>0.003425</td>\n",
       "      <td>NaN</td>\n",
       "      <td>0.005115</td>\n",
       "      <td>0.007862</td>\n",
       "      <td>0.008078</td>\n",
       "    </tr>\n",
       "    <tr>\n",
       "      <th>9998</th>\n",
       "      <td>0077b7efafef4cfa81e42538b87e39799e9928e47c6826...</td>\n",
       "      <td>2017-04-15</td>\n",
       "      <td>0.692401</td>\n",
       "      <td>0.009380</td>\n",
       "      <td>0.018337</td>\n",
       "      <td>0.588057</td>\n",
       "      <td>0.001596</td>\n",
       "      <td>0.108820</td>\n",
       "      <td>0.177197</td>\n",
       "      <td>0.031383</td>\n",
       "      <td>...</td>\n",
       "      <td>NaN</td>\n",
       "      <td>NaN</td>\n",
       "      <td>NaN</td>\n",
       "      <td>0.002379</td>\n",
       "      <td>0.006379</td>\n",
       "      <td>0.009408</td>\n",
       "      <td>NaN</td>\n",
       "      <td>0.005702</td>\n",
       "      <td>0.006532</td>\n",
       "      <td>0.003437</td>\n",
       "    </tr>\n",
       "    <tr>\n",
       "      <th>9999</th>\n",
       "      <td>0077b7efafef4cfa81e42538b87e39799e9928e47c6826...</td>\n",
       "      <td>2017-05-31</td>\n",
       "      <td>0.779090</td>\n",
       "      <td>0.445052</td>\n",
       "      <td>0.032713</td>\n",
       "      <td>0.171864</td>\n",
       "      <td>0.001149</td>\n",
       "      <td>0.099150</td>\n",
       "      <td>0.009573</td>\n",
       "      <td>0.083275</td>\n",
       "      <td>...</td>\n",
       "      <td>NaN</td>\n",
       "      <td>NaN</td>\n",
       "      <td>NaN</td>\n",
       "      <td>0.001991</td>\n",
       "      <td>0.000735</td>\n",
       "      <td>0.009753</td>\n",
       "      <td>NaN</td>\n",
       "      <td>0.003173</td>\n",
       "      <td>0.007842</td>\n",
       "      <td>0.005381</td>\n",
       "    </tr>\n",
       "  </tbody>\n",
       "</table>\n",
       "<p>5 rows × 190 columns</p>\n",
       "</div>"
      ],
      "text/plain": [
       "                                            customer_ID         S_2       P_2  \\\n",
       "9995  007793144e0eeef1e29a7aa93244815328beb0d46ccbe3...  2018-02-26  0.331150   \n",
       "9996  007793144e0eeef1e29a7aa93244815328beb0d46ccbe3...  2018-03-19  0.361060   \n",
       "9997  0077b7efafef4cfa81e42538b87e39799e9928e47c6826...  2017-03-28  0.708199   \n",
       "9998  0077b7efafef4cfa81e42538b87e39799e9928e47c6826...  2017-04-15  0.692401   \n",
       "9999  0077b7efafef4cfa81e42538b87e39799e9928e47c6826...  2017-05-31  0.779090   \n",
       "\n",
       "          D_39       B_1       B_2       R_1       S_3      D_41       B_3  \\\n",
       "9995  1.472028  0.049780  0.187973  0.000417  0.143625  0.955153  0.099672   \n",
       "9996  2.065567  0.048313  0.194930  0.006775  0.144908  1.252287  0.118775   \n",
       "9997  0.357349  0.013953  1.002573  0.003448  0.110258  0.170252  0.040633   \n",
       "9998  0.009380  0.018337  0.588057  0.001596  0.108820  0.177197  0.031383   \n",
       "9999  0.445052  0.032713  0.171864  0.001149  0.099150  0.009573  0.083275   \n",
       "\n",
       "      ...  D_136  D_137  D_138     D_139     D_140     D_141  D_142     D_143  \\\n",
       "9995  ...    NaN    NaN    NaN  0.008082  0.002661  0.003676    NaN  0.001279   \n",
       "9996  ...    NaN    NaN    NaN  0.007419  0.007829  0.000511    NaN  0.008342   \n",
       "9997  ...    NaN    NaN    NaN  0.009987  0.007548  0.003425    NaN  0.005115   \n",
       "9998  ...    NaN    NaN    NaN  0.002379  0.006379  0.009408    NaN  0.005702   \n",
       "9999  ...    NaN    NaN    NaN  0.001991  0.000735  0.009753    NaN  0.003173   \n",
       "\n",
       "         D_144     D_145  \n",
       "9995  0.001011  0.008815  \n",
       "9996  0.004060  0.005083  \n",
       "9997  0.007862  0.008078  \n",
       "9998  0.006532  0.003437  \n",
       "9999  0.007842  0.005381  \n",
       "\n",
       "[5 rows x 190 columns]"
      ]
     },
     "execution_count": 5,
     "metadata": {},
     "output_type": "execute_result"
    }
   ],
   "source": [
    "train_df_example.tail()"
   ]
  },
  {
   "cell_type": "code",
   "execution_count": 6,
   "id": "659c305d",
   "metadata": {},
   "outputs": [
    {
     "name": "stdout",
     "output_type": "stream",
     "text": [
      "<class 'pandas.core.frame.DataFrame'>\n",
      "RangeIndex: 10000 entries, 0 to 9999\n",
      "Columns: 190 entries, customer_ID to D_145\n",
      "dtypes: float64(185), int64(1), object(4)\n",
      "memory usage: 14.5+ MB\n"
     ]
    }
   ],
   "source": [
    "train_df_example.info()"
   ]
  },
  {
   "cell_type": "markdown",
   "id": "f4e0feb2",
   "metadata": {},
   "source": [
    "## convert S_2 to datetime"
   ]
  },
  {
   "cell_type": "code",
   "execution_count": 7,
   "id": "b15864c0",
   "metadata": {},
   "outputs": [
    {
     "data": {
      "text/plain": [
       "0       2017-03-09\n",
       "1       2017-04-07\n",
       "2       2017-05-28\n",
       "3       2017-06-13\n",
       "4       2017-07-16\n",
       "           ...    \n",
       "9995    2018-02-26\n",
       "9996    2018-03-19\n",
       "9997    2017-03-28\n",
       "9998    2017-04-15\n",
       "9999    2017-05-31\n",
       "Name: S_2, Length: 10000, dtype: object"
      ]
     },
     "execution_count": 7,
     "metadata": {},
     "output_type": "execute_result"
    }
   ],
   "source": [
    "train_df_example['S_2']"
   ]
  },
  {
   "cell_type": "code",
   "execution_count": 8,
   "id": "cabbdb02",
   "metadata": {},
   "outputs": [],
   "source": [
    "train_df_example.loc[:, 'S_2'] = pd.to_datetime(train_df_example['S_2'])"
   ]
  },
  {
   "cell_type": "markdown",
   "id": "3e3d2cf2",
   "metadata": {},
   "source": [
    "## inspect columns"
   ]
  },
  {
   "cell_type": "code",
   "execution_count": 9,
   "id": "80447950",
   "metadata": {},
   "outputs": [
    {
     "data": {
      "text/plain": [
       "array(['customer_ID', 'S_2', 'P_2', 'D_39', 'B_1', 'B_2', 'R_1', 'S_3',\n",
       "       'D_41', 'B_3', 'D_42', 'D_43', 'D_44', 'B_4', 'D_45', 'B_5', 'R_2',\n",
       "       'D_46', 'D_47', 'D_48', 'D_49', 'B_6', 'B_7', 'B_8', 'D_50',\n",
       "       'D_51', 'B_9', 'R_3', 'D_52', 'P_3', 'B_10', 'D_53', 'S_5', 'B_11',\n",
       "       'S_6', 'D_54', 'R_4', 'S_7', 'B_12', 'S_8', 'D_55', 'D_56', 'B_13',\n",
       "       'R_5', 'D_58', 'S_9', 'B_14', 'D_59', 'D_60', 'D_61', 'B_15',\n",
       "       'S_11', 'D_62', 'D_63', 'D_64', 'D_65', 'B_16', 'B_17', 'B_18',\n",
       "       'B_19', 'D_66', 'B_20', 'D_68', 'S_12', 'R_6', 'S_13', 'B_21',\n",
       "       'D_69', 'B_22', 'D_70', 'D_71', 'D_72', 'S_15', 'B_23', 'D_73',\n",
       "       'P_4', 'D_74', 'D_75', 'D_76', 'B_24', 'R_7', 'D_77', 'B_25',\n",
       "       'B_26', 'D_78', 'D_79', 'R_8', 'R_9', 'S_16', 'D_80', 'R_10',\n",
       "       'R_11', 'B_27', 'D_81', 'D_82', 'S_17', 'R_12', 'B_28', 'R_13',\n",
       "       'D_83', 'R_14', 'R_15', 'D_84', 'R_16', 'B_29', 'B_30', 'S_18',\n",
       "       'D_86', 'D_87', 'R_17', 'R_18', 'D_88', 'B_31', 'S_19', 'R_19',\n",
       "       'B_32', 'S_20', 'R_20', 'R_21', 'B_33', 'D_89', 'R_22', 'R_23',\n",
       "       'D_91', 'D_92', 'D_93', 'D_94', 'R_24', 'R_25', 'D_96', 'S_22',\n",
       "       'S_23', 'S_24', 'S_25', 'S_26', 'D_102', 'D_103', 'D_104', 'D_105',\n",
       "       'D_106', 'D_107', 'B_36', 'B_37', 'R_26', 'R_27', 'B_38', 'D_108',\n",
       "       'D_109', 'D_110', 'D_111', 'B_39', 'D_112', 'B_40', 'S_27',\n",
       "       'D_113', 'D_114', 'D_115', 'D_116', 'D_117', 'D_118', 'D_119',\n",
       "       'D_120', 'D_121', 'D_122', 'D_123', 'D_124', 'D_125', 'D_126',\n",
       "       'D_127', 'D_128', 'D_129', 'B_41', 'B_42', 'D_130', 'D_131',\n",
       "       'D_132', 'D_133', 'R_28', 'D_134', 'D_135', 'D_136', 'D_137',\n",
       "       'D_138', 'D_139', 'D_140', 'D_141', 'D_142', 'D_143', 'D_144',\n",
       "       'D_145'], dtype=object)"
      ]
     },
     "execution_count": 9,
     "metadata": {},
     "output_type": "execute_result"
    }
   ],
   "source": [
    "train_df_example.columns.values"
   ]
  },
  {
   "cell_type": "code",
   "execution_count": 10,
   "id": "3c44f721",
   "metadata": {},
   "outputs": [],
   "source": [
    "columns = train_df_example.columns"
   ]
  },
  {
   "cell_type": "markdown",
   "id": "41080068",
   "metadata": {},
   "source": [
    "> lets split them into different categories and inspect the groups one by one"
   ]
  },
  {
   "cell_type": "code",
   "execution_count": 11,
   "id": "f4d64f2e",
   "metadata": {},
   "outputs": [],
   "source": [
    "b_columns = list(filter(lambda x: x.startswith(\"B_\"), columns))"
   ]
  },
  {
   "cell_type": "code",
   "execution_count": 12,
   "id": "43e4bb09",
   "metadata": {},
   "outputs": [],
   "source": [
    "r_columns = list(filter(lambda x: x.startswith(\"R_\"), columns))"
   ]
  },
  {
   "cell_type": "code",
   "execution_count": 13,
   "id": "f2b77d93",
   "metadata": {},
   "outputs": [],
   "source": [
    "p_columns = list(filter(lambda x: x.startswith(\"P_\"), columns))"
   ]
  },
  {
   "cell_type": "code",
   "execution_count": 14,
   "id": "3468e705",
   "metadata": {},
   "outputs": [],
   "source": [
    "d_columns = list(filter(lambda x: x.startswith(\"D_\"), columns))"
   ]
  },
  {
   "cell_type": "code",
   "execution_count": 15,
   "id": "ac1ce62f",
   "metadata": {},
   "outputs": [],
   "source": [
    "s_columns = list(filter(lambda x: x.startswith(\"S_\"), columns))"
   ]
  },
  {
   "cell_type": "code",
   "execution_count": 16,
   "id": "3406b8d1",
   "metadata": {},
   "outputs": [
    {
     "name": "stdout",
     "output_type": "stream",
     "text": [
      "<class 'pandas.core.frame.DataFrame'>\n",
      "RangeIndex: 10000 entries, 0 to 9999\n",
      "Data columns (total 40 columns):\n",
      " #   Column  Non-Null Count  Dtype  \n",
      "---  ------  --------------  -----  \n",
      " 0   B_1     10000 non-null  float64\n",
      " 1   B_2     10000 non-null  float64\n",
      " 2   B_3     10000 non-null  float64\n",
      " 3   B_4     10000 non-null  float64\n",
      " 4   B_5     10000 non-null  float64\n",
      " 5   B_6     10000 non-null  float64\n",
      " 6   B_7     10000 non-null  float64\n",
      " 7   B_8     9959 non-null   float64\n",
      " 8   B_9     10000 non-null  float64\n",
      " 9   B_10    10000 non-null  float64\n",
      " 10  B_11    10000 non-null  float64\n",
      " 11  B_12    10000 non-null  float64\n",
      " 12  B_13    9916 non-null   float64\n",
      " 13  B_14    10000 non-null  float64\n",
      " 14  B_15    9987 non-null   float64\n",
      " 15  B_16    10000 non-null  float64\n",
      " 16  B_17    4554 non-null   float64\n",
      " 17  B_18    10000 non-null  float64\n",
      " 18  B_19    10000 non-null  float64\n",
      " 19  B_20    10000 non-null  float64\n",
      " 20  B_21    10000 non-null  float64\n",
      " 21  B_22    10000 non-null  float64\n",
      " 22  B_23    10000 non-null  float64\n",
      " 23  B_24    10000 non-null  float64\n",
      " 24  B_25    9987 non-null   float64\n",
      " 25  B_26    10000 non-null  float64\n",
      " 26  B_27    10000 non-null  float64\n",
      " 27  B_28    10000 non-null  float64\n",
      " 28  B_29    661 non-null    float64\n",
      " 29  B_30    10000 non-null  float64\n",
      " 30  B_31    10000 non-null  int64  \n",
      " 31  B_32    10000 non-null  float64\n",
      " 32  B_33    10000 non-null  float64\n",
      " 33  B_36    10000 non-null  float64\n",
      " 34  B_37    10000 non-null  float64\n",
      " 35  B_38    10000 non-null  float64\n",
      " 36  B_39    28 non-null     float64\n",
      " 37  B_40    10000 non-null  float64\n",
      " 38  B_41    9998 non-null   float64\n",
      " 39  B_42    169 non-null    float64\n",
      "dtypes: float64(39), int64(1)\n",
      "memory usage: 3.1 MB\n"
     ]
    }
   ],
   "source": [
    "train_df_example[b_columns].info()"
   ]
  },
  {
   "cell_type": "code",
   "execution_count": 17,
   "id": "de195827",
   "metadata": {},
   "outputs": [
    {
     "name": "stdout",
     "output_type": "stream",
     "text": [
      "<class 'pandas.core.frame.DataFrame'>\n",
      "RangeIndex: 10000 entries, 0 to 9999\n",
      "Data columns (total 28 columns):\n",
      " #   Column  Non-Null Count  Dtype  \n",
      "---  ------  --------------  -----  \n",
      " 0   R_1     10000 non-null  float64\n",
      " 1   R_2     10000 non-null  float64\n",
      " 2   R_3     10000 non-null  float64\n",
      " 3   R_4     10000 non-null  float64\n",
      " 4   R_5     10000 non-null  float64\n",
      " 5   R_6     10000 non-null  float64\n",
      " 6   R_7     10000 non-null  float64\n",
      " 7   R_8     10000 non-null  float64\n",
      " 8   R_9     644 non-null    float64\n",
      " 9   R_10    10000 non-null  float64\n",
      " 10  R_11    10000 non-null  float64\n",
      " 11  R_12    10000 non-null  float64\n",
      " 12  R_13    10000 non-null  float64\n",
      " 13  R_14    10000 non-null  float64\n",
      " 14  R_15    10000 non-null  float64\n",
      " 15  R_16    10000 non-null  float64\n",
      " 16  R_17    10000 non-null  float64\n",
      " 17  R_18    10000 non-null  float64\n",
      " 18  R_19    10000 non-null  float64\n",
      " 19  R_20    9999 non-null   float64\n",
      " 20  R_21    10000 non-null  float64\n",
      " 21  R_22    10000 non-null  float64\n",
      " 22  R_23    10000 non-null  float64\n",
      " 23  R_24    10000 non-null  float64\n",
      " 24  R_25    10000 non-null  float64\n",
      " 25  R_26    1215 non-null   float64\n",
      " 26  R_27    9760 non-null   float64\n",
      " 27  R_28    10000 non-null  float64\n",
      "dtypes: float64(28)\n",
      "memory usage: 2.1 MB\n"
     ]
    }
   ],
   "source": [
    "train_df_example[r_columns].info()"
   ]
  },
  {
   "cell_type": "code",
   "execution_count": 18,
   "id": "a4dc66c5",
   "metadata": {},
   "outputs": [
    {
     "name": "stdout",
     "output_type": "stream",
     "text": [
      "<class 'pandas.core.frame.DataFrame'>\n",
      "RangeIndex: 10000 entries, 0 to 9999\n",
      "Data columns (total 3 columns):\n",
      " #   Column  Non-Null Count  Dtype  \n",
      "---  ------  --------------  -----  \n",
      " 0   P_2     9936 non-null   float64\n",
      " 1   P_3     9488 non-null   float64\n",
      " 2   P_4     10000 non-null  float64\n",
      "dtypes: float64(3)\n",
      "memory usage: 234.5 KB\n"
     ]
    }
   ],
   "source": [
    "train_df_example[p_columns].info()"
   ]
  },
  {
   "cell_type": "code",
   "execution_count": 19,
   "id": "6e6fcde3",
   "metadata": {},
   "outputs": [
    {
     "name": "stdout",
     "output_type": "stream",
     "text": [
      "<class 'pandas.core.frame.DataFrame'>\n",
      "RangeIndex: 10000 entries, 0 to 9999\n",
      "Data columns (total 96 columns):\n",
      " #   Column  Non-Null Count  Dtype  \n",
      "---  ------  --------------  -----  \n",
      " 0   D_39    10000 non-null  float64\n",
      " 1   D_41    10000 non-null  float64\n",
      " 2   D_42    1355 non-null   float64\n",
      " 3   D_43    6913 non-null   float64\n",
      " 4   D_44    9505 non-null   float64\n",
      " 5   D_45    10000 non-null  float64\n",
      " 6   D_46    7709 non-null   float64\n",
      " 7   D_47    10000 non-null  float64\n",
      " 8   D_48    8697 non-null   float64\n",
      " 9   D_49    1104 non-null   float64\n",
      " 10  D_50    4707 non-null   float64\n",
      " 11  D_51    10000 non-null  float64\n",
      " 12  D_52    9961 non-null   float64\n",
      " 13  D_53    2733 non-null   float64\n",
      " 14  D_54    10000 non-null  float64\n",
      " 15  D_55    9703 non-null   float64\n",
      " 16  D_56    4836 non-null   float64\n",
      " 17  D_58    10000 non-null  float64\n",
      " 18  D_59    9829 non-null   float64\n",
      " 19  D_60    10000 non-null  float64\n",
      " 20  D_61    8886 non-null   float64\n",
      " 21  D_62    8574 non-null   float64\n",
      " 22  D_63    10000 non-null  object \n",
      " 23  D_64    9656 non-null   object \n",
      " 24  D_65    10000 non-null  float64\n",
      " 25  D_66    1133 non-null   float64\n",
      " 26  D_68    9671 non-null   float64\n",
      " 27  D_69    9679 non-null   float64\n",
      " 28  D_70    9858 non-null   float64\n",
      " 29  D_71    10000 non-null  float64\n",
      " 30  D_72    9968 non-null   float64\n",
      " 31  D_73    74 non-null     float64\n",
      " 32  D_74    9984 non-null   float64\n",
      " 33  D_75    10000 non-null  float64\n",
      " 34  D_76    1024 non-null   float64\n",
      " 35  D_77    5306 non-null   float64\n",
      " 36  D_78    9505 non-null   float64\n",
      " 37  D_79    9900 non-null   float64\n",
      " 38  D_80    9984 non-null   float64\n",
      " 39  D_81    9963 non-null   float64\n",
      " 40  D_82    2832 non-null   float64\n",
      " 41  D_83    9679 non-null   float64\n",
      " 42  D_84    9961 non-null   float64\n",
      " 43  D_86    10000 non-null  float64\n",
      " 44  D_87    10 non-null     float64\n",
      " 45  D_88    20 non-null     float64\n",
      " 46  D_89    9961 non-null   float64\n",
      " 47  D_91    9740 non-null   float64\n",
      " 48  D_92    10000 non-null  float64\n",
      " 49  D_93    10000 non-null  float64\n",
      " 50  D_94    10000 non-null  float64\n",
      " 51  D_96    10000 non-null  float64\n",
      " 52  D_102   9937 non-null   float64\n",
      " 53  D_103   9847 non-null   float64\n",
      " 54  D_104   9847 non-null   float64\n",
      " 55  D_105   4477 non-null   float64\n",
      " 56  D_106   1095 non-null   float64\n",
      " 57  D_107   9847 non-null   float64\n",
      " 58  D_108   56 non-null     float64\n",
      " 59  D_109   9998 non-null   float64\n",
      " 60  D_110   25 non-null     float64\n",
      " 61  D_111   25 non-null     float64\n",
      " 62  D_112   9998 non-null   float64\n",
      " 63  D_113   9706 non-null   float64\n",
      " 64  D_114   9706 non-null   float64\n",
      " 65  D_115   9706 non-null   float64\n",
      " 66  D_116   9706 non-null   float64\n",
      " 67  D_117   9706 non-null   float64\n",
      " 68  D_118   9706 non-null   float64\n",
      " 69  D_119   9706 non-null   float64\n",
      " 70  D_120   9706 non-null   float64\n",
      " 71  D_121   9706 non-null   float64\n",
      " 72  D_122   9706 non-null   float64\n",
      " 73  D_123   9706 non-null   float64\n",
      " 74  D_124   9706 non-null   float64\n",
      " 75  D_125   9706 non-null   float64\n",
      " 76  D_126   9800 non-null   float64\n",
      " 77  D_127   10000 non-null  float64\n",
      " 78  D_128   9847 non-null   float64\n",
      " 79  D_129   9847 non-null   float64\n",
      " 80  D_130   9847 non-null   float64\n",
      " 81  D_131   9847 non-null   float64\n",
      " 82  D_132   1095 non-null   float64\n",
      " 83  D_133   9931 non-null   float64\n",
      " 84  D_134   372 non-null    float64\n",
      " 85  D_135   372 non-null    float64\n",
      " 86  D_136   372 non-null    float64\n",
      " 87  D_137   372 non-null    float64\n",
      " 88  D_138   372 non-null    float64\n",
      " 89  D_139   9847 non-null   float64\n",
      " 90  D_140   9937 non-null   float64\n",
      " 91  D_141   9847 non-null   float64\n",
      " 92  D_142   1572 non-null   float64\n",
      " 93  D_143   9847 non-null   float64\n",
      " 94  D_144   9937 non-null   float64\n",
      " 95  D_145   9847 non-null   float64\n",
      "dtypes: float64(94), object(2)\n",
      "memory usage: 7.3+ MB\n"
     ]
    }
   ],
   "source": [
    "train_df_example[d_columns].info()"
   ]
  },
  {
   "cell_type": "code",
   "execution_count": 20,
   "id": "70b5dfdc",
   "metadata": {},
   "outputs": [
    {
     "name": "stdout",
     "output_type": "stream",
     "text": [
      "<class 'pandas.core.frame.DataFrame'>\n",
      "RangeIndex: 10000 entries, 0 to 9999\n",
      "Data columns (total 22 columns):\n",
      " #   Column  Non-Null Count  Dtype         \n",
      "---  ------  --------------  -----         \n",
      " 0   S_2     10000 non-null  datetime64[ns]\n",
      " 1   S_3     8248 non-null   float64       \n",
      " 2   S_5     10000 non-null  float64       \n",
      " 3   S_6     10000 non-null  float64       \n",
      " 4   S_7     8248 non-null   float64       \n",
      " 5   S_8     10000 non-null  float64       \n",
      " 6   S_9     4706 non-null   float64       \n",
      " 7   S_11    10000 non-null  float64       \n",
      " 8   S_12    10000 non-null  float64       \n",
      " 9   S_13    10000 non-null  float64       \n",
      " 10  S_15    10000 non-null  float64       \n",
      " 11  S_16    10000 non-null  float64       \n",
      " 12  S_17    10000 non-null  float64       \n",
      " 13  S_18    10000 non-null  float64       \n",
      " 14  S_19    10000 non-null  float64       \n",
      " 15  S_20    10000 non-null  float64       \n",
      " 16  S_22    9966 non-null   float64       \n",
      " 17  S_23    9999 non-null   float64       \n",
      " 18  S_24    9966 non-null   float64       \n",
      " 19  S_25    9970 non-null   float64       \n",
      " 20  S_26    9998 non-null   float64       \n",
      " 21  S_27    7578 non-null   float64       \n",
      "dtypes: datetime64[ns](1), float64(21)\n",
      "memory usage: 1.7 MB\n"
     ]
    }
   ],
   "source": [
    "train_df_example[s_columns].info()"
   ]
  },
  {
   "cell_type": "markdown",
   "id": "c609c74d",
   "metadata": {},
   "source": [
    "## load and inspect target"
   ]
  },
  {
   "cell_type": "code",
   "execution_count": 21,
   "id": "4f66460a",
   "metadata": {},
   "outputs": [],
   "source": [
    "train_labels = pd.read_csv('train_labels.csv')"
   ]
  },
  {
   "cell_type": "code",
   "execution_count": 22,
   "id": "07e64f31",
   "metadata": {},
   "outputs": [
    {
     "data": {
      "text/html": [
       "<div>\n",
       "<style scoped>\n",
       "    .dataframe tbody tr th:only-of-type {\n",
       "        vertical-align: middle;\n",
       "    }\n",
       "\n",
       "    .dataframe tbody tr th {\n",
       "        vertical-align: top;\n",
       "    }\n",
       "\n",
       "    .dataframe thead th {\n",
       "        text-align: right;\n",
       "    }\n",
       "</style>\n",
       "<table border=\"1\" class=\"dataframe\">\n",
       "  <thead>\n",
       "    <tr style=\"text-align: right;\">\n",
       "      <th></th>\n",
       "      <th>customer_ID</th>\n",
       "      <th>target</th>\n",
       "    </tr>\n",
       "  </thead>\n",
       "  <tbody>\n",
       "    <tr>\n",
       "      <th>0</th>\n",
       "      <td>0000099d6bd597052cdcda90ffabf56573fe9d7c79be5f...</td>\n",
       "      <td>0</td>\n",
       "    </tr>\n",
       "    <tr>\n",
       "      <th>1</th>\n",
       "      <td>00000fd6641609c6ece5454664794f0340ad84dddce9a2...</td>\n",
       "      <td>0</td>\n",
       "    </tr>\n",
       "    <tr>\n",
       "      <th>2</th>\n",
       "      <td>00001b22f846c82c51f6e3958ccd81970162bae8b007e8...</td>\n",
       "      <td>0</td>\n",
       "    </tr>\n",
       "    <tr>\n",
       "      <th>3</th>\n",
       "      <td>000041bdba6ecadd89a52d11886e8eaaec9325906c9723...</td>\n",
       "      <td>0</td>\n",
       "    </tr>\n",
       "    <tr>\n",
       "      <th>4</th>\n",
       "      <td>00007889e4fcd2614b6cbe7f8f3d2e5c728eca32d9eb8a...</td>\n",
       "      <td>0</td>\n",
       "    </tr>\n",
       "  </tbody>\n",
       "</table>\n",
       "</div>"
      ],
      "text/plain": [
       "                                         customer_ID  target\n",
       "0  0000099d6bd597052cdcda90ffabf56573fe9d7c79be5f...       0\n",
       "1  00000fd6641609c6ece5454664794f0340ad84dddce9a2...       0\n",
       "2  00001b22f846c82c51f6e3958ccd81970162bae8b007e8...       0\n",
       "3  000041bdba6ecadd89a52d11886e8eaaec9325906c9723...       0\n",
       "4  00007889e4fcd2614b6cbe7f8f3d2e5c728eca32d9eb8a...       0"
      ]
     },
     "execution_count": 22,
     "metadata": {},
     "output_type": "execute_result"
    }
   ],
   "source": [
    "train_labels.head()"
   ]
  },
  {
   "cell_type": "code",
   "execution_count": 23,
   "id": "4dc433a2",
   "metadata": {},
   "outputs": [
    {
     "data": {
      "text/html": [
       "<div>\n",
       "<style scoped>\n",
       "    .dataframe tbody tr th:only-of-type {\n",
       "        vertical-align: middle;\n",
       "    }\n",
       "\n",
       "    .dataframe tbody tr th {\n",
       "        vertical-align: top;\n",
       "    }\n",
       "\n",
       "    .dataframe thead th {\n",
       "        text-align: right;\n",
       "    }\n",
       "</style>\n",
       "<table border=\"1\" class=\"dataframe\">\n",
       "  <thead>\n",
       "    <tr style=\"text-align: right;\">\n",
       "      <th></th>\n",
       "      <th>customer_ID</th>\n",
       "      <th>target</th>\n",
       "    </tr>\n",
       "  </thead>\n",
       "  <tbody>\n",
       "    <tr>\n",
       "      <th>458908</th>\n",
       "      <td>ffff41c8a52833b56430603969b9ca48d208e7c192c6a4...</td>\n",
       "      <td>0</td>\n",
       "    </tr>\n",
       "    <tr>\n",
       "      <th>458909</th>\n",
       "      <td>ffff518bb2075e4816ee3fe9f3b152c57fc0e6f01bf7fd...</td>\n",
       "      <td>0</td>\n",
       "    </tr>\n",
       "    <tr>\n",
       "      <th>458910</th>\n",
       "      <td>ffff9984b999fccb2b6127635ed0736dda94e544e67e02...</td>\n",
       "      <td>0</td>\n",
       "    </tr>\n",
       "    <tr>\n",
       "      <th>458911</th>\n",
       "      <td>ffffa5c46bc8de74f5a4554e74e239c8dee6b9baf38814...</td>\n",
       "      <td>1</td>\n",
       "    </tr>\n",
       "    <tr>\n",
       "      <th>458912</th>\n",
       "      <td>fffff1d38b785cef84adeace64f8f83db3a0c31e8d92ea...</td>\n",
       "      <td>0</td>\n",
       "    </tr>\n",
       "  </tbody>\n",
       "</table>\n",
       "</div>"
      ],
      "text/plain": [
       "                                              customer_ID  target\n",
       "458908  ffff41c8a52833b56430603969b9ca48d208e7c192c6a4...       0\n",
       "458909  ffff518bb2075e4816ee3fe9f3b152c57fc0e6f01bf7fd...       0\n",
       "458910  ffff9984b999fccb2b6127635ed0736dda94e544e67e02...       0\n",
       "458911  ffffa5c46bc8de74f5a4554e74e239c8dee6b9baf38814...       1\n",
       "458912  fffff1d38b785cef84adeace64f8f83db3a0c31e8d92ea...       0"
      ]
     },
     "execution_count": 23,
     "metadata": {},
     "output_type": "execute_result"
    }
   ],
   "source": [
    "train_labels.tail()"
   ]
  },
  {
   "cell_type": "code",
   "execution_count": 24,
   "id": "8a2e7e1b",
   "metadata": {},
   "outputs": [
    {
     "data": {
      "image/png": "[encoded data removed]",
      "text/plain": [
       "<Figure size 864x720 with 1 Axes>"
      ]
     },
     "metadata": {
      "needs_background": "light"
     },
     "output_type": "display_data"
    }
   ],
   "source": [
    "plt.figure(figsize=(12, 10))\n",
    "sns.histplot(train_labels['target'])\n",
    "plt.title('Count of defaulted vs not-defaulted',\n",
    "         fontsize=16)\n",
    "plt.xticks([0.014, 0.989], ['not-defaulted', 'defaulted'])\n",
    "plt.xlabel('Target', fontsize=14)\n",
    "plt.ylabel('Count', fontsize=14);"
   ]
  },
  {
   "cell_type": "code",
   "execution_count": 25,
   "id": "d9d11525",
   "metadata": {},
   "outputs": [
    {
     "data": {
      "text/plain": [
       "True"
      ]
     },
     "execution_count": 25,
     "metadata": {},
     "output_type": "execute_result"
    }
   ],
   "source": [
    "train_labels['customer_ID'].nunique() == len(train_labels)"
   ]
  },
  {
   "cell_type": "markdown",
   "id": "eeb3a08e",
   "metadata": {},
   "source": [
    "# use PCA to reduce the dimensions of the dataset"
   ]
  },
  {
   "cell_type": "markdown",
   "id": "2e7d60e8",
   "metadata": {},
   "source": [
    "## replace NA values with 0"
   ]
  },
  {
   "cell_type": "code",
   "execution_count": 26,
   "id": "145f9fcb",
   "metadata": {},
   "outputs": [],
   "source": [
    "train_df_example.fillna(0, inplace=True)"
   ]
  },
  {
   "cell_type": "markdown",
   "id": "6918fe79",
   "metadata": {},
   "source": [
    "## get average values of each customer"
   ]
  },
  {
   "cell_type": "code",
   "execution_count": 27,
   "id": "b26ce81f",
   "metadata": {},
   "outputs": [],
   "source": [
    "mean_values_df = train_df_example.groupby('customer_ID').mean()"
   ]
  },
  {
   "cell_type": "code",
   "execution_count": 28,
   "id": "71433b5b",
   "metadata": {},
   "outputs": [
    {
     "data": {
      "text/html": [
       "<div>\n",
       "<style scoped>\n",
       "    .dataframe tbody tr th:only-of-type {\n",
       "        vertical-align: middle;\n",
       "    }\n",
       "\n",
       "    .dataframe tbody tr th {\n",
       "        vertical-align: top;\n",
       "    }\n",
       "\n",
       "    .dataframe thead th {\n",
       "        text-align: right;\n",
       "    }\n",
       "</style>\n",
       "<table border=\"1\" class=\"dataframe\">\n",
       "  <thead>\n",
       "    <tr style=\"text-align: right;\">\n",
       "      <th></th>\n",
       "      <th>P_2</th>\n",
       "      <th>D_39</th>\n",
       "      <th>B_1</th>\n",
       "      <th>B_2</th>\n",
       "      <th>R_1</th>\n",
       "      <th>S_3</th>\n",
       "      <th>D_41</th>\n",
       "      <th>B_3</th>\n",
       "      <th>D_42</th>\n",
       "      <th>D_43</th>\n",
       "      <th>...</th>\n",
       "      <th>D_136</th>\n",
       "      <th>D_137</th>\n",
       "      <th>D_138</th>\n",
       "      <th>D_139</th>\n",
       "      <th>D_140</th>\n",
       "      <th>D_141</th>\n",
       "      <th>D_142</th>\n",
       "      <th>D_143</th>\n",
       "      <th>D_144</th>\n",
       "      <th>D_145</th>\n",
       "    </tr>\n",
       "    <tr>\n",
       "      <th>customer_ID</th>\n",
       "      <th></th>\n",
       "      <th></th>\n",
       "      <th></th>\n",
       "      <th></th>\n",
       "      <th></th>\n",
       "      <th></th>\n",
       "      <th></th>\n",
       "      <th></th>\n",
       "      <th></th>\n",
       "      <th></th>\n",
       "      <th></th>\n",
       "      <th></th>\n",
       "      <th></th>\n",
       "      <th></th>\n",
       "      <th></th>\n",
       "      <th></th>\n",
       "      <th></th>\n",
       "      <th></th>\n",
       "      <th></th>\n",
       "      <th></th>\n",
       "      <th></th>\n",
       "    </tr>\n",
       "  </thead>\n",
       "  <tbody>\n",
       "    <tr>\n",
       "      <th>0000099d6bd597052cdcda90ffabf56573fe9d7c79be5fbac11a8ed792feb62a</th>\n",
       "      <td>0.933824</td>\n",
       "      <td>0.010704</td>\n",
       "      <td>0.012007</td>\n",
       "      <td>1.005086</td>\n",
       "      <td>0.004509</td>\n",
       "      <td>0.113215</td>\n",
       "      <td>0.005021</td>\n",
       "      <td>0.006456</td>\n",
       "      <td>0.0</td>\n",
       "      <td>0.000000</td>\n",
       "      <td>...</td>\n",
       "      <td>0.0</td>\n",
       "      <td>0.0</td>\n",
       "      <td>0.0</td>\n",
       "      <td>0.003664</td>\n",
       "      <td>0.005343</td>\n",
       "      <td>0.005178</td>\n",
       "      <td>0.0</td>\n",
       "      <td>0.005066</td>\n",
       "      <td>0.005283</td>\n",
       "      <td>0.005814</td>\n",
       "    </tr>\n",
       "    <tr>\n",
       "      <th>00000fd6641609c6ece5454664794f0340ad84dddce9a267a310b5ae68e9d8e5</th>\n",
       "      <td>0.899820</td>\n",
       "      <td>0.215205</td>\n",
       "      <td>0.025654</td>\n",
       "      <td>0.991083</td>\n",
       "      <td>0.006246</td>\n",
       "      <td>0.120578</td>\n",
       "      <td>0.004993</td>\n",
       "      <td>0.005663</td>\n",
       "      <td>0.0</td>\n",
       "      <td>0.077846</td>\n",
       "      <td>...</td>\n",
       "      <td>0.0</td>\n",
       "      <td>0.0</td>\n",
       "      <td>0.0</td>\n",
       "      <td>0.004906</td>\n",
       "      <td>0.006271</td>\n",
       "      <td>0.006007</td>\n",
       "      <td>0.0</td>\n",
       "      <td>0.004824</td>\n",
       "      <td>0.004218</td>\n",
       "      <td>0.004902</td>\n",
       "    </tr>\n",
       "    <tr>\n",
       "      <th>00001b22f846c82c51f6e3958ccd81970162bae8b007e80662ef27519fcc18c1</th>\n",
       "      <td>0.878454</td>\n",
       "      <td>0.004181</td>\n",
       "      <td>0.004386</td>\n",
       "      <td>0.815677</td>\n",
       "      <td>0.006621</td>\n",
       "      <td>0.000000</td>\n",
       "      <td>0.006842</td>\n",
       "      <td>0.005493</td>\n",
       "      <td>0.0</td>\n",
       "      <td>0.000000</td>\n",
       "      <td>...</td>\n",
       "      <td>0.0</td>\n",
       "      <td>0.0</td>\n",
       "      <td>0.0</td>\n",
       "      <td>0.006006</td>\n",
       "      <td>0.004675</td>\n",
       "      <td>0.003607</td>\n",
       "      <td>0.0</td>\n",
       "      <td>0.004288</td>\n",
       "      <td>0.005113</td>\n",
       "      <td>0.004500</td>\n",
       "    </tr>\n",
       "    <tr>\n",
       "      <th>000041bdba6ecadd89a52d11886e8eaaec9325906c9723355abb5ca523658edc</th>\n",
       "      <td>0.598969</td>\n",
       "      <td>0.048862</td>\n",
       "      <td>0.059876</td>\n",
       "      <td>0.955264</td>\n",
       "      <td>0.005665</td>\n",
       "      <td>0.247750</td>\n",
       "      <td>0.005490</td>\n",
       "      <td>0.006423</td>\n",
       "      <td>0.0</td>\n",
       "      <td>0.061026</td>\n",
       "      <td>...</td>\n",
       "      <td>0.0</td>\n",
       "      <td>0.0</td>\n",
       "      <td>0.0</td>\n",
       "      <td>0.005775</td>\n",
       "      <td>0.005777</td>\n",
       "      <td>0.004181</td>\n",
       "      <td>0.0</td>\n",
       "      <td>0.006742</td>\n",
       "      <td>0.004768</td>\n",
       "      <td>0.005236</td>\n",
       "    </tr>\n",
       "    <tr>\n",
       "      <th>00007889e4fcd2614b6cbe7f8f3d2e5c728eca32d9eb8ad51ca8b8c4a24cefed</th>\n",
       "      <td>0.891679</td>\n",
       "      <td>0.004644</td>\n",
       "      <td>0.005941</td>\n",
       "      <td>0.814543</td>\n",
       "      <td>0.004180</td>\n",
       "      <td>0.053262</td>\n",
       "      <td>0.005352</td>\n",
       "      <td>0.005088</td>\n",
       "      <td>0.0</td>\n",
       "      <td>0.048778</td>\n",
       "      <td>...</td>\n",
       "      <td>0.0</td>\n",
       "      <td>0.0</td>\n",
       "      <td>0.0</td>\n",
       "      <td>0.003853</td>\n",
       "      <td>0.004818</td>\n",
       "      <td>0.004818</td>\n",
       "      <td>0.0</td>\n",
       "      <td>0.004852</td>\n",
       "      <td>0.004380</td>\n",
       "      <td>0.004219</td>\n",
       "    </tr>\n",
       "  </tbody>\n",
       "</table>\n",
       "<p>5 rows × 186 columns</p>\n",
       "</div>"
      ],
      "text/plain": [
       "                                                         P_2      D_39  \\\n",
       "customer_ID                                                              \n",
       "0000099d6bd597052cdcda90ffabf56573fe9d7c79be5fb...  0.933824  0.010704   \n",
       "00000fd6641609c6ece5454664794f0340ad84dddce9a26...  0.899820  0.215205   \n",
       "00001b22f846c82c51f6e3958ccd81970162bae8b007e80...  0.878454  0.004181   \n",
       "000041bdba6ecadd89a52d11886e8eaaec9325906c97233...  0.598969  0.048862   \n",
       "00007889e4fcd2614b6cbe7f8f3d2e5c728eca32d9eb8ad...  0.891679  0.004644   \n",
       "\n",
       "                                                         B_1       B_2  \\\n",
       "customer_ID                                                              \n",
       "0000099d6bd597052cdcda90ffabf56573fe9d7c79be5fb...  0.012007  1.005086   \n",
       "00000fd6641609c6ece5454664794f0340ad84dddce9a26...  0.025654  0.991083   \n",
       "00001b22f846c82c51f6e3958ccd81970162bae8b007e80...  0.004386  0.815677   \n",
       "000041bdba6ecadd89a52d11886e8eaaec9325906c97233...  0.059876  0.955264   \n",
       "00007889e4fcd2614b6cbe7f8f3d2e5c728eca32d9eb8ad...  0.005941  0.814543   \n",
       "\n",
       "                                                         R_1       S_3  \\\n",
       "customer_ID                                                              \n",
       "0000099d6bd597052cdcda90ffabf56573fe9d7c79be5fb...  0.004509  0.113215   \n",
       "00000fd6641609c6ece5454664794f0340ad84dddce9a26...  0.006246  0.120578   \n",
       "00001b22f846c82c51f6e3958ccd81970162bae8b007e80...  0.006621  0.000000   \n",
       "000041bdba6ecadd89a52d11886e8eaaec9325906c97233...  0.005665  0.247750   \n",
       "00007889e4fcd2614b6cbe7f8f3d2e5c728eca32d9eb8ad...  0.004180  0.053262   \n",
       "\n",
       "                                                        D_41       B_3  D_42  \\\n",
       "customer_ID                                                                    \n",
       "0000099d6bd597052cdcda90ffabf56573fe9d7c79be5fb...  0.005021  0.006456   0.0   \n",
       "00000fd6641609c6ece5454664794f0340ad84dddce9a26...  0.004993  0.005663   0.0   \n",
       "00001b22f846c82c51f6e3958ccd81970162bae8b007e80...  0.006842  0.005493   0.0   \n",
       "000041bdba6ecadd89a52d11886e8eaaec9325906c97233...  0.005490  0.006423   0.0   \n",
       "00007889e4fcd2614b6cbe7f8f3d2e5c728eca32d9eb8ad...  0.005352  0.005088   0.0   \n",
       "\n",
       "                                                        D_43  ...  D_136  \\\n",
       "customer_ID                                                   ...          \n",
       "0000099d6bd597052cdcda90ffabf56573fe9d7c79be5fb...  0.000000  ...    0.0   \n",
       "00000fd6641609c6ece5454664794f0340ad84dddce9a26...  0.077846  ...    0.0   \n",
       "00001b22f846c82c51f6e3958ccd81970162bae8b007e80...  0.000000  ...    0.0   \n",
       "000041bdba6ecadd89a52d11886e8eaaec9325906c97233...  0.061026  ...    0.0   \n",
       "00007889e4fcd2614b6cbe7f8f3d2e5c728eca32d9eb8ad...  0.048778  ...    0.0   \n",
       "\n",
       "                                                    D_137  D_138     D_139  \\\n",
       "customer_ID                                                                  \n",
       "0000099d6bd597052cdcda90ffabf56573fe9d7c79be5fb...    0.0    0.0  0.003664   \n",
       "00000fd6641609c6ece5454664794f0340ad84dddce9a26...    0.0    0.0  0.004906   \n",
       "00001b22f846c82c51f6e3958ccd81970162bae8b007e80...    0.0    0.0  0.006006   \n",
       "000041bdba6ecadd89a52d11886e8eaaec9325906c97233...    0.0    0.0  0.005775   \n",
       "00007889e4fcd2614b6cbe7f8f3d2e5c728eca32d9eb8ad...    0.0    0.0  0.003853   \n",
       "\n",
       "                                                       D_140     D_141  D_142  \\\n",
       "customer_ID                                                                     \n",
       "0000099d6bd597052cdcda90ffabf56573fe9d7c79be5fb...  0.005343  0.005178    0.0   \n",
       "00000fd6641609c6ece5454664794f0340ad84dddce9a26...  0.006271  0.006007    0.0   \n",
       "00001b22f846c82c51f6e3958ccd81970162bae8b007e80...  0.004675  0.003607    0.0   \n",
       "000041bdba6ecadd89a52d11886e8eaaec9325906c97233...  0.005777  0.004181    0.0   \n",
       "00007889e4fcd2614b6cbe7f8f3d2e5c728eca32d9eb8ad...  0.004818  0.004818    0.0   \n",
       "\n",
       "                                                       D_143     D_144  \\\n",
       "customer_ID                                                              \n",
       "0000099d6bd597052cdcda90ffabf56573fe9d7c79be5fb...  0.005066  0.005283   \n",
       "00000fd6641609c6ece5454664794f0340ad84dddce9a26...  0.004824  0.004218   \n",
       "00001b22f846c82c51f6e3958ccd81970162bae8b007e80...  0.004288  0.005113   \n",
       "000041bdba6ecadd89a52d11886e8eaaec9325906c97233...  0.006742  0.004768   \n",
       "00007889e4fcd2614b6cbe7f8f3d2e5c728eca32d9eb8ad...  0.004852  0.004380   \n",
       "\n",
       "                                                       D_145  \n",
       "customer_ID                                                   \n",
       "0000099d6bd597052cdcda90ffabf56573fe9d7c79be5fb...  0.005814  \n",
       "00000fd6641609c6ece5454664794f0340ad84dddce9a26...  0.004902  \n",
       "00001b22f846c82c51f6e3958ccd81970162bae8b007e80...  0.004500  \n",
       "000041bdba6ecadd89a52d11886e8eaaec9325906c97233...  0.005236  \n",
       "00007889e4fcd2614b6cbe7f8f3d2e5c728eca32d9eb8ad...  0.004219  \n",
       "\n",
       "[5 rows x 186 columns]"
      ]
     },
     "execution_count": 28,
     "metadata": {},
     "output_type": "execute_result"
    }
   ],
   "source": [
    "mean_values_df.head()"
   ]
  },
  {
   "cell_type": "markdown",
   "id": "9a557547",
   "metadata": {},
   "source": [
    "## use PCA to get features"
   ]
  },
  {
   "cell_type": "code",
   "execution_count": 29,
   "id": "116c6293",
   "metadata": {},
   "outputs": [],
   "source": [
    "X = mean_values_df.reset_index()"
   ]
  },
  {
   "cell_type": "code",
   "execution_count": 30,
   "id": "8240e3d7",
   "metadata": {},
   "outputs": [],
   "source": [
    "X.drop(columns='customer_ID', inplace=True)"
   ]
  },
  {
   "cell_type": "code",
   "execution_count": 31,
   "id": "2bd78433",
   "metadata": {},
   "outputs": [
    {
     "data": {
      "image/png": "[encoded data removed]",
      "text/plain": [
       "<Figure size 432x288 with 1 Axes>"
      ]
     },
     "metadata": {
      "needs_background": "light"
     },
     "output_type": "display_data"
    }
   ],
   "source": [
    "from sklearn.decomposition import PCA\n",
    "pca = PCA()\n",
    "pca.fit(X)\n",
    "plt.plot(pca.explained_variance_ratio_)\n",
    "plt.xlabel('Principal Component')\n",
    "plt.ylabel('% explained variance');"
   ]
  },
  {
   "cell_type": "markdown",
   "id": "10ec72c7",
   "metadata": {},
   "source": [
    "> using the elbow method, we can make an initial guess of 6 relevant features for our model"
   ]
  },
  {
   "cell_type": "code",
   "execution_count": 32,
   "id": "644bdc1b",
   "metadata": {},
   "outputs": [
    {
     "data": {
      "image/png": "[encoded data removed]",
      "text/plain": [
       "<Figure size 432x288 with 1 Axes>"
      ]
     },
     "metadata": {
      "needs_background": "light"
     },
     "output_type": "display_data"
    }
   ],
   "source": [
    "pca_2 = PCA(n_components=6)\n",
    "pca_2.fit(X)\n",
    "plt.plot(pca_2.explained_variance_ratio_)\n",
    "plt.xlabel('Principal Component')\n",
    "plt.ylabel('% explained variance');"
   ]
  },
  {
   "cell_type": "markdown",
   "id": "6f0da9e6",
   "metadata": {},
   "source": [
    "## merge customer_ID and target"
   ]
  },
  {
   "cell_type": "code",
   "execution_count": 33,
   "id": "9863ff52",
   "metadata": {},
   "outputs": [],
   "source": [
    "X_proj = pd.DataFrame(pca_2.fit_transform(X), columns=['PC1', 'PC2', 'PC3', 'PC4',\n",
    "                                                                 'PC5', 'PC6'])"
   ]
  },
  {
   "cell_type": "code",
   "execution_count": 34,
   "id": "539b78ed",
   "metadata": {},
   "outputs": [
    {
     "data": {
      "text/html": [
       "<div>\n",
       "<style scoped>\n",
       "    .dataframe tbody tr th:only-of-type {\n",
       "        vertical-align: middle;\n",
       "    }\n",
       "\n",
       "    .dataframe tbody tr th {\n",
       "        vertical-align: top;\n",
       "    }\n",
       "\n",
       "    .dataframe thead th {\n",
       "        text-align: right;\n",
       "    }\n",
       "</style>\n",
       "<table border=\"1\" class=\"dataframe\">\n",
       "  <thead>\n",
       "    <tr style=\"text-align: right;\">\n",
       "      <th></th>\n",
       "      <th>PC1</th>\n",
       "      <th>PC2</th>\n",
       "      <th>PC3</th>\n",
       "      <th>PC4</th>\n",
       "      <th>PC5</th>\n",
       "      <th>PC6</th>\n",
       "    </tr>\n",
       "  </thead>\n",
       "  <tbody>\n",
       "    <tr>\n",
       "      <th>0</th>\n",
       "      <td>-2.706583</td>\n",
       "      <td>-0.364278</td>\n",
       "      <td>-0.497256</td>\n",
       "      <td>0.080536</td>\n",
       "      <td>-0.031309</td>\n",
       "      <td>0.544618</td>\n",
       "    </tr>\n",
       "    <tr>\n",
       "      <th>1</th>\n",
       "      <td>1.454561</td>\n",
       "      <td>-1.996146</td>\n",
       "      <td>-2.639184</td>\n",
       "      <td>1.081337</td>\n",
       "      <td>0.535499</td>\n",
       "      <td>-0.164632</td>\n",
       "    </tr>\n",
       "    <tr>\n",
       "      <th>2</th>\n",
       "      <td>1.289533</td>\n",
       "      <td>-2.799796</td>\n",
       "      <td>-2.556961</td>\n",
       "      <td>0.925319</td>\n",
       "      <td>0.764693</td>\n",
       "      <td>-0.608276</td>\n",
       "    </tr>\n",
       "    <tr>\n",
       "      <th>3</th>\n",
       "      <td>-1.643852</td>\n",
       "      <td>-0.775092</td>\n",
       "      <td>1.832381</td>\n",
       "      <td>-1.043538</td>\n",
       "      <td>-0.357795</td>\n",
       "      <td>0.181582</td>\n",
       "    </tr>\n",
       "    <tr>\n",
       "      <th>4</th>\n",
       "      <td>-2.588868</td>\n",
       "      <td>-0.561059</td>\n",
       "      <td>-0.436470</td>\n",
       "      <td>0.002557</td>\n",
       "      <td>0.122024</td>\n",
       "      <td>-0.228821</td>\n",
       "    </tr>\n",
       "  </tbody>\n",
       "</table>\n",
       "</div>"
      ],
      "text/plain": [
       "        PC1       PC2       PC3       PC4       PC5       PC6\n",
       "0 -2.706583 -0.364278 -0.497256  0.080536 -0.031309  0.544618\n",
       "1  1.454561 -1.996146 -2.639184  1.081337  0.535499 -0.164632\n",
       "2  1.289533 -2.799796 -2.556961  0.925319  0.764693 -0.608276\n",
       "3 -1.643852 -0.775092  1.832381 -1.043538 -0.357795  0.181582\n",
       "4 -2.588868 -0.561059 -0.436470  0.002557  0.122024 -0.228821"
      ]
     },
     "execution_count": 34,
     "metadata": {},
     "output_type": "execute_result"
    }
   ],
   "source": [
    "X_proj.head()"
   ]
  },
  {
   "cell_type": "code",
   "execution_count": 35,
   "id": "b7af3ac1",
   "metadata": {},
   "outputs": [],
   "source": [
    "mean_values_df.reset_index(inplace=True)"
   ]
  },
  {
   "cell_type": "code",
   "execution_count": 36,
   "id": "acf880aa",
   "metadata": {},
   "outputs": [
    {
     "data": {
      "text/html": [
       "<div>\n",
       "<style scoped>\n",
       "    .dataframe tbody tr th:only-of-type {\n",
       "        vertical-align: middle;\n",
       "    }\n",
       "\n",
       "    .dataframe tbody tr th {\n",
       "        vertical-align: top;\n",
       "    }\n",
       "\n",
       "    .dataframe thead th {\n",
       "        text-align: right;\n",
       "    }\n",
       "</style>\n",
       "<table border=\"1\" class=\"dataframe\">\n",
       "  <thead>\n",
       "    <tr style=\"text-align: right;\">\n",
       "      <th></th>\n",
       "      <th>customer_ID</th>\n",
       "      <th>P_2</th>\n",
       "      <th>D_39</th>\n",
       "      <th>B_1</th>\n",
       "      <th>B_2</th>\n",
       "      <th>R_1</th>\n",
       "      <th>S_3</th>\n",
       "      <th>D_41</th>\n",
       "      <th>B_3</th>\n",
       "      <th>D_42</th>\n",
       "      <th>...</th>\n",
       "      <th>D_136</th>\n",
       "      <th>D_137</th>\n",
       "      <th>D_138</th>\n",
       "      <th>D_139</th>\n",
       "      <th>D_140</th>\n",
       "      <th>D_141</th>\n",
       "      <th>D_142</th>\n",
       "      <th>D_143</th>\n",
       "      <th>D_144</th>\n",
       "      <th>D_145</th>\n",
       "    </tr>\n",
       "  </thead>\n",
       "  <tbody>\n",
       "    <tr>\n",
       "      <th>0</th>\n",
       "      <td>0000099d6bd597052cdcda90ffabf56573fe9d7c79be5f...</td>\n",
       "      <td>0.933824</td>\n",
       "      <td>0.010704</td>\n",
       "      <td>0.012007</td>\n",
       "      <td>1.005086</td>\n",
       "      <td>0.004509</td>\n",
       "      <td>0.113215</td>\n",
       "      <td>0.005021</td>\n",
       "      <td>0.006456</td>\n",
       "      <td>0.0</td>\n",
       "      <td>...</td>\n",
       "      <td>0.0</td>\n",
       "      <td>0.0</td>\n",
       "      <td>0.0</td>\n",
       "      <td>0.003664</td>\n",
       "      <td>0.005343</td>\n",
       "      <td>0.005178</td>\n",
       "      <td>0.0</td>\n",
       "      <td>0.005066</td>\n",
       "      <td>0.005283</td>\n",
       "      <td>0.005814</td>\n",
       "    </tr>\n",
       "    <tr>\n",
       "      <th>1</th>\n",
       "      <td>00000fd6641609c6ece5454664794f0340ad84dddce9a2...</td>\n",
       "      <td>0.899820</td>\n",
       "      <td>0.215205</td>\n",
       "      <td>0.025654</td>\n",
       "      <td>0.991083</td>\n",
       "      <td>0.006246</td>\n",
       "      <td>0.120578</td>\n",
       "      <td>0.004993</td>\n",
       "      <td>0.005663</td>\n",
       "      <td>0.0</td>\n",
       "      <td>...</td>\n",
       "      <td>0.0</td>\n",
       "      <td>0.0</td>\n",
       "      <td>0.0</td>\n",
       "      <td>0.004906</td>\n",
       "      <td>0.006271</td>\n",
       "      <td>0.006007</td>\n",
       "      <td>0.0</td>\n",
       "      <td>0.004824</td>\n",
       "      <td>0.004218</td>\n",
       "      <td>0.004902</td>\n",
       "    </tr>\n",
       "    <tr>\n",
       "      <th>2</th>\n",
       "      <td>00001b22f846c82c51f6e3958ccd81970162bae8b007e8...</td>\n",
       "      <td>0.878454</td>\n",
       "      <td>0.004181</td>\n",
       "      <td>0.004386</td>\n",
       "      <td>0.815677</td>\n",
       "      <td>0.006621</td>\n",
       "      <td>0.000000</td>\n",
       "      <td>0.006842</td>\n",
       "      <td>0.005493</td>\n",
       "      <td>0.0</td>\n",
       "      <td>...</td>\n",
       "      <td>0.0</td>\n",
       "      <td>0.0</td>\n",
       "      <td>0.0</td>\n",
       "      <td>0.006006</td>\n",
       "      <td>0.004675</td>\n",
       "      <td>0.003607</td>\n",
       "      <td>0.0</td>\n",
       "      <td>0.004288</td>\n",
       "      <td>0.005113</td>\n",
       "      <td>0.004500</td>\n",
       "    </tr>\n",
       "    <tr>\n",
       "      <th>3</th>\n",
       "      <td>000041bdba6ecadd89a52d11886e8eaaec9325906c9723...</td>\n",
       "      <td>0.598969</td>\n",
       "      <td>0.048862</td>\n",
       "      <td>0.059876</td>\n",
       "      <td>0.955264</td>\n",
       "      <td>0.005665</td>\n",
       "      <td>0.247750</td>\n",
       "      <td>0.005490</td>\n",
       "      <td>0.006423</td>\n",
       "      <td>0.0</td>\n",
       "      <td>...</td>\n",
       "      <td>0.0</td>\n",
       "      <td>0.0</td>\n",
       "      <td>0.0</td>\n",
       "      <td>0.005775</td>\n",
       "      <td>0.005777</td>\n",
       "      <td>0.004181</td>\n",
       "      <td>0.0</td>\n",
       "      <td>0.006742</td>\n",
       "      <td>0.004768</td>\n",
       "      <td>0.005236</td>\n",
       "    </tr>\n",
       "    <tr>\n",
       "      <th>4</th>\n",
       "      <td>00007889e4fcd2614b6cbe7f8f3d2e5c728eca32d9eb8a...</td>\n",
       "      <td>0.891679</td>\n",
       "      <td>0.004644</td>\n",
       "      <td>0.005941</td>\n",
       "      <td>0.814543</td>\n",
       "      <td>0.004180</td>\n",
       "      <td>0.053262</td>\n",
       "      <td>0.005352</td>\n",
       "      <td>0.005088</td>\n",
       "      <td>0.0</td>\n",
       "      <td>...</td>\n",
       "      <td>0.0</td>\n",
       "      <td>0.0</td>\n",
       "      <td>0.0</td>\n",
       "      <td>0.003853</td>\n",
       "      <td>0.004818</td>\n",
       "      <td>0.004818</td>\n",
       "      <td>0.0</td>\n",
       "      <td>0.004852</td>\n",
       "      <td>0.004380</td>\n",
       "      <td>0.004219</td>\n",
       "    </tr>\n",
       "  </tbody>\n",
       "</table>\n",
       "<p>5 rows × 187 columns</p>\n",
       "</div>"
      ],
      "text/plain": [
       "                                         customer_ID       P_2      D_39  \\\n",
       "0  0000099d6bd597052cdcda90ffabf56573fe9d7c79be5f...  0.933824  0.010704   \n",
       "1  00000fd6641609c6ece5454664794f0340ad84dddce9a2...  0.899820  0.215205   \n",
       "2  00001b22f846c82c51f6e3958ccd81970162bae8b007e8...  0.878454  0.004181   \n",
       "3  000041bdba6ecadd89a52d11886e8eaaec9325906c9723...  0.598969  0.048862   \n",
       "4  00007889e4fcd2614b6cbe7f8f3d2e5c728eca32d9eb8a...  0.891679  0.004644   \n",
       "\n",
       "        B_1       B_2       R_1       S_3      D_41       B_3  D_42  ...  \\\n",
       "0  0.012007  1.005086  0.004509  0.113215  0.005021  0.006456   0.0  ...   \n",
       "1  0.025654  0.991083  0.006246  0.120578  0.004993  0.005663   0.0  ...   \n",
       "2  0.004386  0.815677  0.006621  0.000000  0.006842  0.005493   0.0  ...   \n",
       "3  0.059876  0.955264  0.005665  0.247750  0.005490  0.006423   0.0  ...   \n",
       "4  0.005941  0.814543  0.004180  0.053262  0.005352  0.005088   0.0  ...   \n",
       "\n",
       "   D_136  D_137  D_138     D_139     D_140     D_141  D_142     D_143  \\\n",
       "0    0.0    0.0    0.0  0.003664  0.005343  0.005178    0.0  0.005066   \n",
       "1    0.0    0.0    0.0  0.004906  0.006271  0.006007    0.0  0.004824   \n",
       "2    0.0    0.0    0.0  0.006006  0.004675  0.003607    0.0  0.004288   \n",
       "3    0.0    0.0    0.0  0.005775  0.005777  0.004181    0.0  0.006742   \n",
       "4    0.0    0.0    0.0  0.003853  0.004818  0.004818    0.0  0.004852   \n",
       "\n",
       "      D_144     D_145  \n",
       "0  0.005283  0.005814  \n",
       "1  0.004218  0.004902  \n",
       "2  0.005113  0.004500  \n",
       "3  0.004768  0.005236  \n",
       "4  0.004380  0.004219  \n",
       "\n",
       "[5 rows x 187 columns]"
      ]
     },
     "execution_count": 36,
     "metadata": {},
     "output_type": "execute_result"
    }
   ],
   "source": [
    "mean_values_df.head()"
   ]
  },
  {
   "cell_type": "code",
   "execution_count": 37,
   "id": "2c559b8c",
   "metadata": {},
   "outputs": [],
   "source": [
    "intermediate_merge = X_proj.merge(mean_values_df['customer_ID'], right_index=True, left_index=True)"
   ]
  },
  {
   "cell_type": "code",
   "execution_count": 38,
   "id": "e24e115a",
   "metadata": {},
   "outputs": [],
   "source": [
    "df = intermediate_merge.merge(train_labels, left_on='customer_ID', right_on='customer_ID')"
   ]
  },
  {
   "cell_type": "markdown",
   "id": "7ec6846a",
   "metadata": {},
   "source": [
    "## visualize relationship between target and new features"
   ]
  },
  {
   "cell_type": "code",
   "execution_count": 39,
   "id": "b6a425a4",
   "metadata": {},
   "outputs": [
    {
     "data": {
      "image/png": "[encoded data removed]",
      "text/plain": [
       "<Figure size 864x720 with 2 Axes>"
      ]
     },
     "metadata": {
      "needs_background": "light"
     },
     "output_type": "display_data"
    }
   ],
   "source": [
    "corr = df.drop(columns='customer_ID').corr()\n",
    "plt.figure(figsize=(12,10))\n",
    "sns.heatmap(corr, annot=True, cmap='viridis')\n",
    "plt.title(\"Correlation between principle components and target\",\n",
    "         fontsize=16)\n",
    "plt.tight_layout();"
   ]
  },
  {
   "cell_type": "code",
   "execution_count": 40,
   "id": "faa46f97",
   "metadata": {},
   "outputs": [
    {
     "data": {
      "image/png": "[encoded data removed]",
      "text/plain": [
       "<Figure size 1260x1260 with 56 Axes>"
      ]
     },
     "metadata": {
      "needs_background": "light"
     },
     "output_type": "display_data"
    }
   ],
   "source": [
    "sns.pairplot(data = df.drop(columns='customer_ID'));"
   ]
  },
  {
   "cell_type": "code",
   "execution_count": 41,
   "id": "93a6fef2",
   "metadata": {},
   "outputs": [
    {
     "data": {
      "image/png": "[encoded data removed]",
      "text/plain": [
       "<Figure size 864x720 with 1 Axes>"
      ]
     },
     "metadata": {
      "needs_background": "light"
     },
     "output_type": "display_data"
    }
   ],
   "source": [
    "plt.figure(figsize=(12,10))\n",
    "sns.scatterplot(x=df['PC2'], y=df['target'], c=df['PC1']);"
   ]
  },
  {
   "cell_type": "code",
   "execution_count": 42,
   "id": "70b909da",
   "metadata": {},
   "outputs": [
    {
     "data": {
      "image/png": "[encoded data removed]",
      "text/plain": [
       "<Figure size 864x720 with 1 Axes>"
      ]
     },
     "metadata": {
      "needs_background": "light"
     },
     "output_type": "display_data"
    }
   ],
   "source": [
    "plt.figure(figsize=(12,10))\n",
    "sns.scatterplot(x=df['PC6'], y=df['target'], c=df['PC1']);"
   ]
  },
  {
   "cell_type": "markdown",
   "id": "378a0dcc",
   "metadata": {},
   "source": [
    "# function to collect all training data"
   ]
  },
  {
   "cell_type": "code",
   "execution_count": 45,
   "id": "fcd911fb",
   "metadata": {},
   "outputs": [],
   "source": [
    "filename = 'train_data.csv'"
   ]
  },
  {
   "cell_type": "code",
   "execution_count": 46,
   "id": "4841bbee",
   "metadata": {},
   "outputs": [
    {
     "name": "stdout",
     "output_type": "stream",
     "text": [
      "5531452\n"
     ]
    }
   ],
   "source": [
    "with open(filename) as f:\n",
    "    print(sum(1 for line in f))"
   ]
  },
  {
   "cell_type": "code",
   "execution_count": null,
   "id": "84b5b265",
   "metadata": {},
   "outputs": [],
   "source": [
    "def transform_data(pca):\n",
    "    chunksize = 70000\n",
    "    train_df_iter = pd.read_csv('train_data.csv', chunksize=chunksize)\n",
    "    df = pd.DataFrame()\n",
    "    c = 0\n",
    "    while c < 79:\n",
    "        train_df_example = train_df_iter.__next__()\n",
    "        train_df_example.loc[:, 'S_2'] = pd.to_datetime(train_df_example['S_2'])\n",
    "        train_labels = pd.read_csv('train_labels.csv')\n",
    "        train_df_example.fillna(0, inplace=True)\n",
    "        mean_values_df = train_df_example.groupby('customer_ID').mean()\n",
    "        X = mean_values_df.reset_index()\n",
    "        X.drop(columns='customer_ID', inplace=True)\n",
    "        X_proj = pd.DataFrame(pca.transform(X), columns=['PC1', 'PC2', 'PC3', 'PC4',\n",
    "                                                                 'PC5', 'PC6'])\n",
    "        mean_values_df.reset_index(inplace=True)\n",
    "        intermediate_merge = X_proj.merge(mean_values_df['customer_ID'], right_index=True, left_index=True)\n",
    "        df = df.append(intermediate_merge.merge(train_labels, left_on='customer_ID', right_on='customer_ID'))\n",
    "        c += 1\n",
    "    return df\n",
    "\n",
    "\n",
    "combined_df = transform_data(pca_2)\n",
    "    "
   ]
  },
  {
   "cell_type": "code",
   "execution_count": null,
   "id": "66ab89f4",
   "metadata": {},
   "outputs": [],
   "source": [
    "combined_df.reset_index().drop(columns='index', inplace=True)"
   ]
  },
  {
   "cell_type": "code",
   "execution_count": null,
   "id": "3977c3f4",
   "metadata": {},
   "outputs": [],
   "source": [
    "combined_df.head()"
   ]
  },
  {
   "cell_type": "code",
   "execution_count": null,
   "id": "4e700ed7",
   "metadata": {},
   "outputs": [],
   "source": [
    "combined_df.tail()"
   ]
  },
  {
   "cell_type": "code",
   "execution_count": null,
   "id": "b5ad1bde",
   "metadata": {},
   "outputs": [],
   "source": [
    "combined_df['customer_ID'].value_counts() "
   ]
  },
  {
   "cell_type": "code",
   "execution_count": null,
   "id": "9eae651a",
   "metadata": {},
   "outputs": [],
   "source": [
    "sum(combined_df['customer_ID'].value_counts() == 2)"
   ]
  },
  {
   "cell_type": "markdown",
   "id": "cc31caed",
   "metadata": {},
   "source": [
    "## merge rows where there is more than one entry per customer"
   ]
  },
  {
   "cell_type": "code",
   "execution_count": null,
   "id": "92b7a66f",
   "metadata": {},
   "outputs": [],
   "source": [
    "df = combined_df.groupby('customer_ID', as_index=False).mean()"
   ]
  },
  {
   "cell_type": "code",
   "execution_count": null,
   "id": "8ad18875",
   "metadata": {},
   "outputs": [],
   "source": [
    "corr = df.drop(columns='customer_ID').corr()"
   ]
  },
  {
   "cell_type": "code",
   "execution_count": null,
   "id": "6310415b",
   "metadata": {},
   "outputs": [],
   "source": [
    "plt.figure(figsize=(12,10))\n",
    "sns.heatmap(data=corr, annot=True, cmap='viridis');"
   ]
  },
  {
   "cell_type": "markdown",
   "id": "58a2a309",
   "metadata": {},
   "source": [
    "## save as new csv file"
   ]
  },
  {
   "cell_type": "code",
   "execution_count": null,
   "id": "0e4c16e1",
   "metadata": {},
   "outputs": [],
   "source": [
    "df.to_csv('transformed_train_data.csv')"
   ]
  },
  {
   "cell_type": "markdown",
   "id": "6c953b20",
   "metadata": {},
   "source": [
    "# build initial model"
   ]
  },
  {
   "cell_type": "code",
   "execution_count": 2,
   "id": "8f53eddc",
   "metadata": {},
   "outputs": [],
   "source": [
    "from sklearn.metrics import recall_score, accuracy_score, precision_score\n",
    "from sklearn.model_selection import train_test_split, cross_val_score\n",
    "from sklearn.linear_model import LogisticRegression\n",
    "from sklearn.neighbors import KNeighborsClassifier\n",
    "from sklearn.tree import DecisionTreeClassifier\n",
    "from sklearn.ensemble import RandomForestClassifier, AdaBoostClassifier, GradientBoostingClassifier\n",
    "from sklearn.svm import SVC"
   ]
  },
  {
   "cell_type": "code",
   "execution_count": 3,
   "id": "907720e3",
   "metadata": {},
   "outputs": [],
   "source": [
    "df = pd.read_csv('transformed_train_data.csv')"
   ]
  },
  {
   "cell_type": "code",
   "execution_count": 4,
   "id": "fdaed2de",
   "metadata": {},
   "outputs": [],
   "source": [
    "X = df.drop(columns=['target', 'customer_ID'])\n",
    "y = df['target']"
   ]
  },
  {
   "cell_type": "code",
   "execution_count": 5,
   "id": "74a00786",
   "metadata": {},
   "outputs": [],
   "source": [
    "X_train, X_test, y_train, y_test = train_test_split(X, y, test_size=0.7, random_state=42)"
   ]
  },
  {
   "cell_type": "markdown",
   "id": "c0d34dc9",
   "metadata": {},
   "source": [
    "## build dummy model"
   ]
  },
  {
   "cell_type": "code",
   "execution_count": 6,
   "id": "309edd83",
   "metadata": {},
   "outputs": [
    {
     "data": {
      "text/plain": [
       "339990"
      ]
     },
     "metadata": {},
     "output_type": "display_data"
    },
    {
     "data": {
      "text/plain": [
       "118801"
      ]
     },
     "metadata": {},
     "output_type": "display_data"
    }
   ],
   "source": [
    "display(y[y==0].count())\n",
    "display(y[y==1].count())"
   ]
  },
  {
   "cell_type": "code",
   "execution_count": 7,
   "id": "ef573ed8",
   "metadata": {},
   "outputs": [],
   "source": [
    "y_dummy = np.array([0] * len(y))"
   ]
  },
  {
   "cell_type": "code",
   "execution_count": 8,
   "id": "b9d291da",
   "metadata": {},
   "outputs": [
    {
     "data": {
      "text/plain": [
       "array([1., 0.])"
      ]
     },
     "execution_count": 8,
     "metadata": {},
     "output_type": "execute_result"
    }
   ],
   "source": [
    "recall_score(y_true=y, y_pred=y_dummy, average=None)"
   ]
  },
  {
   "cell_type": "code",
   "execution_count": 9,
   "id": "14a71f87",
   "metadata": {},
   "outputs": [
    {
     "name": "stderr",
     "output_type": "stream",
     "text": [
      "/home/inherentspice/.pyenv/versions/3.8.12/envs/lewagon/lib/python3.8/site-packages/sklearn/metrics/_classification.py:1327: UndefinedMetricWarning: Precision is ill-defined and being set to 0.0 in labels with no predicted samples. Use `zero_division` parameter to control this behavior.\n",
      "  _warn_prf(average, modifier, msg_start, len(result))\n"
     ]
    },
    {
     "data": {
      "text/plain": [
       "array([0.74105639, 0.        ])"
      ]
     },
     "execution_count": 9,
     "metadata": {},
     "output_type": "execute_result"
    }
   ],
   "source": [
    "precision_score(y_true=y, y_pred=y_dummy, average=None)"
   ]
  },
  {
   "cell_type": "code",
   "execution_count": 10,
   "id": "cc27338d",
   "metadata": {},
   "outputs": [
    {
     "data": {
      "text/plain": [
       "0.7410563851514088"
      ]
     },
     "execution_count": 10,
     "metadata": {},
     "output_type": "execute_result"
    }
   ],
   "source": [
    "accuracy = accuracy_score(y_true=y, y_pred=y_dummy)\n",
    "accuracy"
   ]
  },
  {
   "cell_type": "markdown",
   "id": "4e9b095b",
   "metadata": {},
   "source": [
    "## build basic models"
   ]
  },
  {
   "cell_type": "markdown",
   "id": "932b73b4",
   "metadata": {},
   "source": [
    "### Logistic Regression"
   ]
  },
  {
   "cell_type": "code",
   "execution_count": 26,
   "id": "b7ffa5e1",
   "metadata": {},
   "outputs": [],
   "source": [
    "log_reg = LogisticRegression()\n",
    "score_log = cross_val_score(log_reg, X_train, y_train, cv=5)"
   ]
  },
  {
   "cell_type": "code",
   "execution_count": 27,
   "id": "5f815301",
   "metadata": {},
   "outputs": [
    {
     "data": {
      "text/plain": [
       "'The mean accuracy of the Logistic Regression model is: 0.740382310118241'"
      ]
     },
     "metadata": {},
     "output_type": "display_data"
    },
    {
     "data": {
      "text/plain": [
       "'The mean accuracy of the dummy model is: 0.7410563851514088'"
      ]
     },
     "metadata": {},
     "output_type": "display_data"
    }
   ],
   "source": [
    "display(f\"The mean accuracy of the Logistic Regression model is: {log_score.mean()}\")\n",
    "display(f\"The mean accuracy of the dummy model is: {accuracy}\")"
   ]
  },
  {
   "cell_type": "markdown",
   "id": "2c97bf90",
   "metadata": {},
   "source": [
    "### KNeighboursClassifier"
   ]
  },
  {
   "cell_type": "code",
   "execution_count": 14,
   "id": "772e913c",
   "metadata": {},
   "outputs": [],
   "source": [
    "k_classifier = KNeighborsClassifier()\n",
    "score_k = cross_val_score(k_classifier, X_train, y_train, cv=5)"
   ]
  },
  {
   "cell_type": "code",
   "execution_count": 15,
   "id": "fe25e405",
   "metadata": {},
   "outputs": [
    {
     "data": {
      "text/plain": [
       "'The mean accuracy of the KNeighbours Classifier is: 0.6924736722784564'"
      ]
     },
     "metadata": {},
     "output_type": "display_data"
    },
    {
     "data": {
      "text/plain": [
       "'The mean accuracy of the dummy model is: 0.7410563851514088'"
      ]
     },
     "metadata": {},
     "output_type": "display_data"
    }
   ],
   "source": [
    "display(f\"The mean accuracy of the KNeighbours Classifier is: {score_k.mean()}\")\n",
    "display(f\"The mean accuracy of the dummy model is: {accuracy}\")"
   ]
  },
  {
   "cell_type": "markdown",
   "id": "5281e2a9",
   "metadata": {},
   "source": [
    "### Decision Tree Classifier"
   ]
  },
  {
   "cell_type": "code",
   "execution_count": 16,
   "id": "f4d879c8",
   "metadata": {},
   "outputs": [],
   "source": [
    "t_classifier = DecisionTreeClassifier(random_state=42)\n",
    "score_c = cross_val_score(t_classifier, X_train, y_train, cv=5)"
   ]
  },
  {
   "cell_type": "code",
   "execution_count": 17,
   "id": "b7f0402f",
   "metadata": {},
   "outputs": [
    {
     "data": {
      "text/plain": [
       "'The mean accuracy of the Decision Tree Classifier is: 0.7877605619874501'"
      ]
     },
     "metadata": {},
     "output_type": "display_data"
    },
    {
     "data": {
      "text/plain": [
       "'The mean accuracy of the dummy model is: 0.7410563851514088'"
      ]
     },
     "metadata": {},
     "output_type": "display_data"
    }
   ],
   "source": [
    "display(f\"The mean accuracy of the Decision Tree Classifier is: {score_c.mean()}\")\n",
    "display(f\"The mean accuracy of the dummy model is: {accuracy}\")"
   ]
  },
  {
   "cell_type": "markdown",
   "id": "6c5fce45",
   "metadata": {},
   "source": [
    "### Random Forest Classifier"
   ]
  },
  {
   "cell_type": "code",
   "execution_count": 18,
   "id": "f247c265",
   "metadata": {},
   "outputs": [],
   "source": [
    "random_classifier = RandomForestClassifier(random_state=42)\n",
    "score_rc = cross_val_score(random_classifier, X_train, y_train, cv=5)"
   ]
  },
  {
   "cell_type": "code",
   "execution_count": 19,
   "id": "966f005f",
   "metadata": {},
   "outputs": [
    {
     "data": {
      "text/plain": [
       "'The mean accuracy of the Random Forest Classifier is: 0.8383283591148422'"
      ]
     },
     "metadata": {},
     "output_type": "display_data"
    },
    {
     "data": {
      "text/plain": [
       "'The mean accuracy of the dummy model is: 0.7410563851514088'"
      ]
     },
     "metadata": {},
     "output_type": "display_data"
    }
   ],
   "source": [
    "display(f\"The mean accuracy of the Random Forest Classifier is: {score_rc.mean()}\")\n",
    "display(f\"The mean accuracy of the dummy model is: {accuracy}\")"
   ]
  },
  {
   "cell_type": "markdown",
   "id": "a419acc2",
   "metadata": {},
   "source": [
    "### Ada Boost Classifier"
   ]
  },
  {
   "cell_type": "code",
   "execution_count": 20,
   "id": "24c77faf",
   "metadata": {},
   "outputs": [],
   "source": [
    "ada = AdaBoostClassifier(random_state=42)\n",
    "score_a = cross_val_score(ada, X_train, y_train, cv=5)"
   ]
  },
  {
   "cell_type": "code",
   "execution_count": 21,
   "id": "c850a981",
   "metadata": {},
   "outputs": [
    {
     "data": {
      "text/plain": [
       "'The mean accuracy of the Ada Boost Classifier is: 0.8383283591148422'"
      ]
     },
     "metadata": {},
     "output_type": "display_data"
    },
    {
     "data": {
      "text/plain": [
       "'The mean accuracy of the dummy model is: 0.7410563851514088'"
      ]
     },
     "metadata": {},
     "output_type": "display_data"
    }
   ],
   "source": [
    "display(f\"The mean accuracy of the Ada Boost Classifier is: {score_rc.mean()}\")\n",
    "display(f\"The mean accuracy of the dummy model is: {accuracy}\")"
   ]
  },
  {
   "cell_type": "markdown",
   "id": "b9863f9d",
   "metadata": {},
   "source": [
    "### Gradient Boosting Classifier"
   ]
  },
  {
   "cell_type": "code",
   "execution_count": 23,
   "id": "25efa525",
   "metadata": {},
   "outputs": [],
   "source": [
    "gradient = GradientBoostingClassifier(random_state=42)\n",
    "score_g = cross_val_score(gradient, X_train, y_train, cv=5)"
   ]
  },
  {
   "cell_type": "code",
   "execution_count": 24,
   "id": "c4702fa8",
   "metadata": {},
   "outputs": [
    {
     "data": {
      "text/plain": [
       "'The mean accuracy of the Gradient Boosting Classifier is: 0.8383283591148422'"
      ]
     },
     "metadata": {},
     "output_type": "display_data"
    },
    {
     "data": {
      "text/plain": [
       "'The mean accuracy of the dummy model is: 0.7410563851514088'"
      ]
     },
     "metadata": {},
     "output_type": "display_data"
    }
   ],
   "source": [
    "display(f\"The mean accuracy of the Gradient Boosting Classifier is: {score_rc.mean()}\")\n",
    "display(f\"The mean accuracy of the dummy model is: {accuracy}\")"
   ]
  },
  {
   "cell_type": "markdown",
   "id": "158eba4c",
   "metadata": {},
   "source": [
    "## visualize results"
   ]
  },
  {
   "cell_type": "code",
   "execution_count": 28,
   "id": "feb904d0",
   "metadata": {},
   "outputs": [],
   "source": [
    "scores = pd.DataFrame(columns=['scores'], index=['y_dummy', 'KNeighbors', 'Logistic Regression', 'Decision Tree',\n",
    "                                                'Random Forest', 'Ada Boost', 'Gradient Boost'],\n",
    "                      data=[accuracy, score_k.mean(), score_log.mean(), score_c.mean(), score_rc.mean(),\n",
    "                           score_a.mean(), score_g.mean()])"
   ]
  },
  {
   "cell_type": "code",
   "execution_count": 29,
   "id": "333def8c",
   "metadata": {},
   "outputs": [
    {
     "data": {
      "text/html": [
       "<div>\n",
       "<style scoped>\n",
       "    .dataframe tbody tr th:only-of-type {\n",
       "        vertical-align: middle;\n",
       "    }\n",
       "\n",
       "    .dataframe tbody tr th {\n",
       "        vertical-align: top;\n",
       "    }\n",
       "\n",
       "    .dataframe thead th {\n",
       "        text-align: right;\n",
       "    }\n",
       "</style>\n",
       "<table border=\"1\" class=\"dataframe\">\n",
       "  <thead>\n",
       "    <tr style=\"text-align: right;\">\n",
       "      <th></th>\n",
       "      <th>scores</th>\n",
       "    </tr>\n",
       "  </thead>\n",
       "  <tbody>\n",
       "    <tr>\n",
       "      <th>y_dummy</th>\n",
       "      <td>0.741056</td>\n",
       "    </tr>\n",
       "    <tr>\n",
       "      <th>KNeighbors</th>\n",
       "      <td>0.692474</td>\n",
       "    </tr>\n",
       "    <tr>\n",
       "      <th>Logistic Regression</th>\n",
       "      <td>0.740382</td>\n",
       "    </tr>\n",
       "    <tr>\n",
       "      <th>Decision Tree</th>\n",
       "      <td>0.787761</td>\n",
       "    </tr>\n",
       "    <tr>\n",
       "      <th>Random Forest</th>\n",
       "      <td>0.838328</td>\n",
       "    </tr>\n",
       "    <tr>\n",
       "      <th>Ada Boost</th>\n",
       "      <td>0.820615</td>\n",
       "    </tr>\n",
       "    <tr>\n",
       "      <th>Gradient Boost</th>\n",
       "      <td>0.831462</td>\n",
       "    </tr>\n",
       "  </tbody>\n",
       "</table>\n",
       "</div>"
      ],
      "text/plain": [
       "                       scores\n",
       "y_dummy              0.741056\n",
       "KNeighbors           0.692474\n",
       "Logistic Regression  0.740382\n",
       "Decision Tree        0.787761\n",
       "Random Forest        0.838328\n",
       "Ada Boost            0.820615\n",
       "Gradient Boost       0.831462"
      ]
     },
     "execution_count": 29,
     "metadata": {},
     "output_type": "execute_result"
    }
   ],
   "source": [
    "scores"
   ]
  },
  {
   "cell_type": "code",
   "execution_count": 32,
   "id": "658bb50f",
   "metadata": {},
   "outputs": [
    {
     "data": {
      "text/plain": [
       "<AxesSubplot:xlabel='scores'>"
      ]
     },
     "execution_count": 32,
     "metadata": {},
     "output_type": "execute_result"
    },
    {
     "data": {
      "image/png": "[encoded data removed]",
      "text/plain": [
       "<Figure size 432x288 with 1 Axes>"
      ]
     },
     "metadata": {
      "needs_background": "light"
     },
     "output_type": "display_data"
    }
   ],
   "source": [
    "sns.barplot(x = scores.scores, y=scores.index)"
   ]
  },
  {
   "cell_type": "code",
   "execution_count": null,
   "id": "8ec42f9e",
   "metadata": {},
   "outputs": [],
   "source": []
  }
 ],
 "metadata": {
  "kernelspec": {
   "display_name": "Python 3 (ipykernel)",
   "language": "python",
   "name": "python3"
  },
  "language_info": {
   "codemirror_mode": {
    "name": "ipython",
    "version": 3
   },
   "file_extension": ".py",
   "mimetype": "text/x-python",
   "name": "python",
   "nbconvert_exporter": "python",
   "pygments_lexer": "ipython3",
   "version": "3.8.12"
  },
  "toc": {
   "base_numbering": 1,
   "nav_menu": {},
   "number_sections": true,
   "sideBar": true,
   "skip_h1_title": false,
   "title_cell": "Table of Contents",
   "title_sidebar": "Contents",
   "toc_cell": false,
   "toc_position": {},
   "toc_section_display": true,
   "toc_window_display": true
  }
 },
 "nbformat": 4,
 "nbformat_minor": 5
}
